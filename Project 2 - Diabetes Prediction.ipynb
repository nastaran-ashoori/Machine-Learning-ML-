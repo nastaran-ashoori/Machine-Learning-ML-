{
 "cells": [
  {
   "cell_type": "markdown",
   "metadata": {
    "id": "vl1bMGMiHJBf"
   },
   "source": [
    "# **Diabetes Prediction** Model\n",
    "\n",
    "\n",
    "---\n",
    "\n",
    "\n",
    "---\n",
    "\n"
   ]
  },
  {
   "cell_type": "markdown",
   "metadata": {
    "id": "YqHtimlpv2UP"
   },
   "source": [
    "### **Description of the Dataset**\n",
    "\n",
    "The data were collected from the Iraqi society and acquired from the laboratory of Medical City Hospital (the Specializes Center for Endocrinology and Diabetes-Al-Kindy Teaching Hospital).\n",
    "\n",
    "Patients' files were taken and data extracted from them and entered in to the database to construct the diabetes dataset. The data consist of medical information, laboratory analysis.\n",
    "\n",
    "The data consist of medical information, laboratory analysis, etc. The data that have been entered initially into the system are:\n",
    "\n",
    "* ***ID***\n",
    "\n",
    "* Number of Patient as ***No_Pation***\n",
    "\n",
    "* Gender as ***Gender***\n",
    "\n",
    "* Age as ***AGE***\n",
    "\n",
    "* Urea as ***Urea***\n",
    "\n",
    "* Creatinine ratio as ***Cr***\n",
    "\n",
    "* The average blood glucose level over the past three months as ***HbA1c***,\n",
    "\n",
    "* Fasting lipid profile including total Cholesterol as ***Chol***, Triglycerides as ***TG***, ***HDL*** Cholesterol, ***LDL***, ***VLDL***\n",
    "\n",
    "* Body Mass Index as ***BMI***\n",
    "\n",
    "* Class (the patient's diabetes disease class may be Diabetic, Non-Diabetic, or PreDiabetic) as ***CLASS***\n",
    "\n",
    "https://data.mendeley.com/datasets/wj9rwkp9c2/1"
   ]
  },
  {
   "cell_type": "markdown",
   "metadata": {
    "id": "66RDA0yosvqp"
   },
   "source": [
    "\n",
    "---\n",
    "\n",
    "## **1 - Loading Dataset**\n",
    "\n",
    "\n",
    "\n",
    "---\n",
    "\n"
   ]
  },
  {
   "cell_type": "code",
   "execution_count": 1,
   "metadata": {
    "executionInfo": {
     "elapsed": 1825,
     "status": "ok",
     "timestamp": 1689151942997,
     "user": {
      "displayName": "Nastaran Ashoori",
      "userId": "00665327493872759992"
     },
     "user_tz": -120
    },
    "id": "HvXICsJkHAt0"
   },
   "outputs": [],
   "source": [
    "# Importing important and the most used libraries\n",
    "\n",
    "import pandas as pd\n",
    "import numpy as np\n",
    "import matplotlib.pyplot as plt\n",
    "import seaborn as sns"
   ]
  },
  {
   "cell_type": "code",
   "execution_count": 2,
   "metadata": {
    "colab": {
     "base_uri": "https://localhost:8080/",
     "height": 423
    },
    "executionInfo": {
     "elapsed": 1024,
     "status": "ok",
     "timestamp": 1689151944012,
     "user": {
      "displayName": "Nastaran Ashoori",
      "userId": "00665327493872759992"
     },
     "user_tz": -120
    },
    "id": "hyNr7YkAHlo_",
    "outputId": "c3c4738e-f6b9-49ed-b9ff-d4e76d53aea5"
   },
   "outputs": [
    {
     "data": {
      "text/html": [
       "<div>\n",
       "<style scoped>\n",
       "    .dataframe tbody tr th:only-of-type {\n",
       "        vertical-align: middle;\n",
       "    }\n",
       "\n",
       "    .dataframe tbody tr th {\n",
       "        vertical-align: top;\n",
       "    }\n",
       "\n",
       "    .dataframe thead th {\n",
       "        text-align: right;\n",
       "    }\n",
       "</style>\n",
       "<table border=\"1\" class=\"dataframe\">\n",
       "  <thead>\n",
       "    <tr style=\"text-align: right;\">\n",
       "      <th></th>\n",
       "      <th>ID</th>\n",
       "      <th>No_Pation</th>\n",
       "      <th>Gender</th>\n",
       "      <th>AGE</th>\n",
       "      <th>Urea</th>\n",
       "      <th>Cr</th>\n",
       "      <th>HbA1c</th>\n",
       "      <th>Chol</th>\n",
       "      <th>TG</th>\n",
       "      <th>HDL</th>\n",
       "      <th>LDL</th>\n",
       "      <th>VLDL</th>\n",
       "      <th>BMI</th>\n",
       "      <th>CLASS</th>\n",
       "    </tr>\n",
       "  </thead>\n",
       "  <tbody>\n",
       "    <tr>\n",
       "      <th>0</th>\n",
       "      <td>502</td>\n",
       "      <td>17975</td>\n",
       "      <td>F</td>\n",
       "      <td>50</td>\n",
       "      <td>4.7</td>\n",
       "      <td>46</td>\n",
       "      <td>4.9</td>\n",
       "      <td>4.2</td>\n",
       "      <td>0.9</td>\n",
       "      <td>2.4</td>\n",
       "      <td>1.4</td>\n",
       "      <td>0.5</td>\n",
       "      <td>24.0</td>\n",
       "      <td>N</td>\n",
       "    </tr>\n",
       "    <tr>\n",
       "      <th>1</th>\n",
       "      <td>735</td>\n",
       "      <td>34221</td>\n",
       "      <td>M</td>\n",
       "      <td>26</td>\n",
       "      <td>4.5</td>\n",
       "      <td>62</td>\n",
       "      <td>4.9</td>\n",
       "      <td>3.7</td>\n",
       "      <td>1.4</td>\n",
       "      <td>1.1</td>\n",
       "      <td>2.1</td>\n",
       "      <td>0.6</td>\n",
       "      <td>23.0</td>\n",
       "      <td>N</td>\n",
       "    </tr>\n",
       "    <tr>\n",
       "      <th>2</th>\n",
       "      <td>420</td>\n",
       "      <td>47975</td>\n",
       "      <td>F</td>\n",
       "      <td>50</td>\n",
       "      <td>4.7</td>\n",
       "      <td>46</td>\n",
       "      <td>4.9</td>\n",
       "      <td>4.2</td>\n",
       "      <td>0.9</td>\n",
       "      <td>2.4</td>\n",
       "      <td>1.4</td>\n",
       "      <td>0.5</td>\n",
       "      <td>24.0</td>\n",
       "      <td>N</td>\n",
       "    </tr>\n",
       "    <tr>\n",
       "      <th>3</th>\n",
       "      <td>680</td>\n",
       "      <td>87656</td>\n",
       "      <td>F</td>\n",
       "      <td>50</td>\n",
       "      <td>4.7</td>\n",
       "      <td>46</td>\n",
       "      <td>4.9</td>\n",
       "      <td>4.2</td>\n",
       "      <td>0.9</td>\n",
       "      <td>2.4</td>\n",
       "      <td>1.4</td>\n",
       "      <td>0.5</td>\n",
       "      <td>24.0</td>\n",
       "      <td>N</td>\n",
       "    </tr>\n",
       "    <tr>\n",
       "      <th>4</th>\n",
       "      <td>504</td>\n",
       "      <td>34223</td>\n",
       "      <td>M</td>\n",
       "      <td>33</td>\n",
       "      <td>7.1</td>\n",
       "      <td>46</td>\n",
       "      <td>4.9</td>\n",
       "      <td>4.9</td>\n",
       "      <td>1.0</td>\n",
       "      <td>0.8</td>\n",
       "      <td>2.0</td>\n",
       "      <td>0.4</td>\n",
       "      <td>21.0</td>\n",
       "      <td>N</td>\n",
       "    </tr>\n",
       "    <tr>\n",
       "      <th>...</th>\n",
       "      <td>...</td>\n",
       "      <td>...</td>\n",
       "      <td>...</td>\n",
       "      <td>...</td>\n",
       "      <td>...</td>\n",
       "      <td>...</td>\n",
       "      <td>...</td>\n",
       "      <td>...</td>\n",
       "      <td>...</td>\n",
       "      <td>...</td>\n",
       "      <td>...</td>\n",
       "      <td>...</td>\n",
       "      <td>...</td>\n",
       "      <td>...</td>\n",
       "    </tr>\n",
       "    <tr>\n",
       "      <th>995</th>\n",
       "      <td>200</td>\n",
       "      <td>454317</td>\n",
       "      <td>M</td>\n",
       "      <td>71</td>\n",
       "      <td>11.0</td>\n",
       "      <td>97</td>\n",
       "      <td>7.0</td>\n",
       "      <td>7.5</td>\n",
       "      <td>1.7</td>\n",
       "      <td>1.2</td>\n",
       "      <td>1.8</td>\n",
       "      <td>0.6</td>\n",
       "      <td>30.0</td>\n",
       "      <td>Y</td>\n",
       "    </tr>\n",
       "    <tr>\n",
       "      <th>996</th>\n",
       "      <td>671</td>\n",
       "      <td>876534</td>\n",
       "      <td>M</td>\n",
       "      <td>31</td>\n",
       "      <td>3.0</td>\n",
       "      <td>60</td>\n",
       "      <td>12.3</td>\n",
       "      <td>4.1</td>\n",
       "      <td>2.2</td>\n",
       "      <td>0.7</td>\n",
       "      <td>2.4</td>\n",
       "      <td>15.4</td>\n",
       "      <td>37.2</td>\n",
       "      <td>Y</td>\n",
       "    </tr>\n",
       "    <tr>\n",
       "      <th>997</th>\n",
       "      <td>669</td>\n",
       "      <td>87654</td>\n",
       "      <td>M</td>\n",
       "      <td>30</td>\n",
       "      <td>7.1</td>\n",
       "      <td>81</td>\n",
       "      <td>6.7</td>\n",
       "      <td>4.1</td>\n",
       "      <td>1.1</td>\n",
       "      <td>1.2</td>\n",
       "      <td>2.4</td>\n",
       "      <td>8.1</td>\n",
       "      <td>27.4</td>\n",
       "      <td>Y</td>\n",
       "    </tr>\n",
       "    <tr>\n",
       "      <th>998</th>\n",
       "      <td>99</td>\n",
       "      <td>24004</td>\n",
       "      <td>M</td>\n",
       "      <td>38</td>\n",
       "      <td>5.8</td>\n",
       "      <td>59</td>\n",
       "      <td>6.7</td>\n",
       "      <td>5.3</td>\n",
       "      <td>2.0</td>\n",
       "      <td>1.6</td>\n",
       "      <td>2.9</td>\n",
       "      <td>14.0</td>\n",
       "      <td>40.5</td>\n",
       "      <td>Y</td>\n",
       "    </tr>\n",
       "    <tr>\n",
       "      <th>999</th>\n",
       "      <td>248</td>\n",
       "      <td>24054</td>\n",
       "      <td>M</td>\n",
       "      <td>54</td>\n",
       "      <td>5.0</td>\n",
       "      <td>67</td>\n",
       "      <td>6.9</td>\n",
       "      <td>3.8</td>\n",
       "      <td>1.7</td>\n",
       "      <td>1.1</td>\n",
       "      <td>3.0</td>\n",
       "      <td>0.7</td>\n",
       "      <td>33.0</td>\n",
       "      <td>Y</td>\n",
       "    </tr>\n",
       "  </tbody>\n",
       "</table>\n",
       "<p>1000 rows × 14 columns</p>\n",
       "</div>"
      ],
      "text/plain": [
       "      ID  No_Pation Gender  AGE  Urea  Cr  HbA1c  Chol   TG  HDL  LDL  VLDL  \\\n",
       "0    502      17975      F   50   4.7  46    4.9   4.2  0.9  2.4  1.4   0.5   \n",
       "1    735      34221      M   26   4.5  62    4.9   3.7  1.4  1.1  2.1   0.6   \n",
       "2    420      47975      F   50   4.7  46    4.9   4.2  0.9  2.4  1.4   0.5   \n",
       "3    680      87656      F   50   4.7  46    4.9   4.2  0.9  2.4  1.4   0.5   \n",
       "4    504      34223      M   33   7.1  46    4.9   4.9  1.0  0.8  2.0   0.4   \n",
       "..   ...        ...    ...  ...   ...  ..    ...   ...  ...  ...  ...   ...   \n",
       "995  200     454317      M   71  11.0  97    7.0   7.5  1.7  1.2  1.8   0.6   \n",
       "996  671     876534      M   31   3.0  60   12.3   4.1  2.2  0.7  2.4  15.4   \n",
       "997  669      87654      M   30   7.1  81    6.7   4.1  1.1  1.2  2.4   8.1   \n",
       "998   99      24004      M   38   5.8  59    6.7   5.3  2.0  1.6  2.9  14.0   \n",
       "999  248      24054      M   54   5.0  67    6.9   3.8  1.7  1.1  3.0   0.7   \n",
       "\n",
       "      BMI CLASS  \n",
       "0    24.0     N  \n",
       "1    23.0     N  \n",
       "2    24.0     N  \n",
       "3    24.0     N  \n",
       "4    21.0     N  \n",
       "..    ...   ...  \n",
       "995  30.0     Y  \n",
       "996  37.2    Y   \n",
       "997  27.4    Y   \n",
       "998  40.5    Y   \n",
       "999  33.0    Y   \n",
       "\n",
       "[1000 rows x 14 columns]"
      ]
     },
     "execution_count": 2,
     "metadata": {},
     "output_type": "execute_result"
    }
   ],
   "source": [
    "# Uploading and reading data From the Google drive\n",
    "\n",
    "data_id = \"1B8g8zOF_LRf-O117vcBLDXzIOKwULWOA\"\n",
    "dwn_url='https://drive.google.com/uc?id='\n",
    "data = pd.read_csv(dwn_url+data_id)\n",
    "data"
   ]
  },
  {
   "cell_type": "markdown",
   "metadata": {
    "id": "wMeH7aLtDK0l"
   },
   "source": [
    "\n",
    "\n",
    "---\n",
    "\n",
    "## **2 - Feature Engineering and Data Cleaning**\n",
    "\n",
    "---\n",
    "\n",
    "\n",
    "\n"
   ]
  },
  {
   "cell_type": "code",
   "execution_count": 3,
   "metadata": {
    "colab": {
     "base_uri": "https://localhost:8080/",
     "height": 364
    },
    "executionInfo": {
     "elapsed": 6,
     "status": "ok",
     "timestamp": 1689151946805,
     "user": {
      "displayName": "Nastaran Ashoori",
      "userId": "00665327493872759992"
     },
     "user_tz": -120
    },
    "id": "HIuWJHXMI4CG",
    "outputId": "52cb46f8-bc11-4683-b9a1-59984049f275"
   },
   "outputs": [
    {
     "data": {
      "text/html": [
       "<div>\n",
       "<style scoped>\n",
       "    .dataframe tbody tr th:only-of-type {\n",
       "        vertical-align: middle;\n",
       "    }\n",
       "\n",
       "    .dataframe tbody tr th {\n",
       "        vertical-align: top;\n",
       "    }\n",
       "\n",
       "    .dataframe thead th {\n",
       "        text-align: right;\n",
       "    }\n",
       "</style>\n",
       "<table border=\"1\" class=\"dataframe\">\n",
       "  <thead>\n",
       "    <tr style=\"text-align: right;\">\n",
       "      <th></th>\n",
       "      <th>ID</th>\n",
       "      <th>No_Pation</th>\n",
       "      <th>AGE</th>\n",
       "      <th>Urea</th>\n",
       "      <th>Cr</th>\n",
       "      <th>HbA1c</th>\n",
       "      <th>Chol</th>\n",
       "      <th>TG</th>\n",
       "      <th>HDL</th>\n",
       "      <th>LDL</th>\n",
       "      <th>VLDL</th>\n",
       "      <th>BMI</th>\n",
       "    </tr>\n",
       "  </thead>\n",
       "  <tbody>\n",
       "    <tr>\n",
       "      <th>count</th>\n",
       "      <td>1000.000000</td>\n",
       "      <td>1.000000e+03</td>\n",
       "      <td>1000.000000</td>\n",
       "      <td>1000.000000</td>\n",
       "      <td>1000.000000</td>\n",
       "      <td>1000.000000</td>\n",
       "      <td>1000.000000</td>\n",
       "      <td>1000.000000</td>\n",
       "      <td>1000.000000</td>\n",
       "      <td>1000.000000</td>\n",
       "      <td>1000.000000</td>\n",
       "      <td>1000.000000</td>\n",
       "    </tr>\n",
       "    <tr>\n",
       "      <th>mean</th>\n",
       "      <td>340.500000</td>\n",
       "      <td>2.705514e+05</td>\n",
       "      <td>53.528000</td>\n",
       "      <td>5.124743</td>\n",
       "      <td>68.943000</td>\n",
       "      <td>8.281160</td>\n",
       "      <td>4.862820</td>\n",
       "      <td>2.349610</td>\n",
       "      <td>1.204750</td>\n",
       "      <td>2.609790</td>\n",
       "      <td>1.854700</td>\n",
       "      <td>29.578020</td>\n",
       "    </tr>\n",
       "    <tr>\n",
       "      <th>std</th>\n",
       "      <td>240.397673</td>\n",
       "      <td>3.380758e+06</td>\n",
       "      <td>8.799241</td>\n",
       "      <td>2.935165</td>\n",
       "      <td>59.984747</td>\n",
       "      <td>2.534003</td>\n",
       "      <td>1.301738</td>\n",
       "      <td>1.401176</td>\n",
       "      <td>0.660414</td>\n",
       "      <td>1.115102</td>\n",
       "      <td>3.663599</td>\n",
       "      <td>4.962388</td>\n",
       "    </tr>\n",
       "    <tr>\n",
       "      <th>min</th>\n",
       "      <td>1.000000</td>\n",
       "      <td>1.230000e+02</td>\n",
       "      <td>20.000000</td>\n",
       "      <td>0.500000</td>\n",
       "      <td>6.000000</td>\n",
       "      <td>0.900000</td>\n",
       "      <td>0.000000</td>\n",
       "      <td>0.300000</td>\n",
       "      <td>0.200000</td>\n",
       "      <td>0.300000</td>\n",
       "      <td>0.100000</td>\n",
       "      <td>19.000000</td>\n",
       "    </tr>\n",
       "    <tr>\n",
       "      <th>25%</th>\n",
       "      <td>125.750000</td>\n",
       "      <td>2.406375e+04</td>\n",
       "      <td>51.000000</td>\n",
       "      <td>3.700000</td>\n",
       "      <td>48.000000</td>\n",
       "      <td>6.500000</td>\n",
       "      <td>4.000000</td>\n",
       "      <td>1.500000</td>\n",
       "      <td>0.900000</td>\n",
       "      <td>1.800000</td>\n",
       "      <td>0.700000</td>\n",
       "      <td>26.000000</td>\n",
       "    </tr>\n",
       "    <tr>\n",
       "      <th>50%</th>\n",
       "      <td>300.500000</td>\n",
       "      <td>3.439550e+04</td>\n",
       "      <td>55.000000</td>\n",
       "      <td>4.600000</td>\n",
       "      <td>60.000000</td>\n",
       "      <td>8.000000</td>\n",
       "      <td>4.800000</td>\n",
       "      <td>2.000000</td>\n",
       "      <td>1.100000</td>\n",
       "      <td>2.500000</td>\n",
       "      <td>0.900000</td>\n",
       "      <td>30.000000</td>\n",
       "    </tr>\n",
       "    <tr>\n",
       "      <th>75%</th>\n",
       "      <td>550.250000</td>\n",
       "      <td>4.538425e+04</td>\n",
       "      <td>59.000000</td>\n",
       "      <td>5.700000</td>\n",
       "      <td>73.000000</td>\n",
       "      <td>10.200000</td>\n",
       "      <td>5.600000</td>\n",
       "      <td>2.900000</td>\n",
       "      <td>1.300000</td>\n",
       "      <td>3.300000</td>\n",
       "      <td>1.500000</td>\n",
       "      <td>33.000000</td>\n",
       "    </tr>\n",
       "    <tr>\n",
       "      <th>max</th>\n",
       "      <td>800.000000</td>\n",
       "      <td>7.543566e+07</td>\n",
       "      <td>79.000000</td>\n",
       "      <td>38.900000</td>\n",
       "      <td>800.000000</td>\n",
       "      <td>16.000000</td>\n",
       "      <td>10.300000</td>\n",
       "      <td>13.800000</td>\n",
       "      <td>9.900000</td>\n",
       "      <td>9.900000</td>\n",
       "      <td>35.000000</td>\n",
       "      <td>47.750000</td>\n",
       "    </tr>\n",
       "  </tbody>\n",
       "</table>\n",
       "</div>"
      ],
      "text/plain": [
       "                ID     No_Pation          AGE         Urea           Cr  \\\n",
       "count  1000.000000  1.000000e+03  1000.000000  1000.000000  1000.000000   \n",
       "mean    340.500000  2.705514e+05    53.528000     5.124743    68.943000   \n",
       "std     240.397673  3.380758e+06     8.799241     2.935165    59.984747   \n",
       "min       1.000000  1.230000e+02    20.000000     0.500000     6.000000   \n",
       "25%     125.750000  2.406375e+04    51.000000     3.700000    48.000000   \n",
       "50%     300.500000  3.439550e+04    55.000000     4.600000    60.000000   \n",
       "75%     550.250000  4.538425e+04    59.000000     5.700000    73.000000   \n",
       "max     800.000000  7.543566e+07    79.000000    38.900000   800.000000   \n",
       "\n",
       "             HbA1c         Chol           TG          HDL          LDL  \\\n",
       "count  1000.000000  1000.000000  1000.000000  1000.000000  1000.000000   \n",
       "mean      8.281160     4.862820     2.349610     1.204750     2.609790   \n",
       "std       2.534003     1.301738     1.401176     0.660414     1.115102   \n",
       "min       0.900000     0.000000     0.300000     0.200000     0.300000   \n",
       "25%       6.500000     4.000000     1.500000     0.900000     1.800000   \n",
       "50%       8.000000     4.800000     2.000000     1.100000     2.500000   \n",
       "75%      10.200000     5.600000     2.900000     1.300000     3.300000   \n",
       "max      16.000000    10.300000    13.800000     9.900000     9.900000   \n",
       "\n",
       "              VLDL          BMI  \n",
       "count  1000.000000  1000.000000  \n",
       "mean      1.854700    29.578020  \n",
       "std       3.663599     4.962388  \n",
       "min       0.100000    19.000000  \n",
       "25%       0.700000    26.000000  \n",
       "50%       0.900000    30.000000  \n",
       "75%       1.500000    33.000000  \n",
       "max      35.000000    47.750000  "
      ]
     },
     "execution_count": 3,
     "metadata": {},
     "output_type": "execute_result"
    }
   ],
   "source": [
    "# Taking a look at the data summary statistics\n",
    "\n",
    "data.describe()"
   ]
  },
  {
   "cell_type": "code",
   "execution_count": 4,
   "metadata": {
    "colab": {
     "base_uri": "https://localhost:8080/"
    },
    "executionInfo": {
     "elapsed": 2,
     "status": "ok",
     "timestamp": 1689151948588,
     "user": {
      "displayName": "Nastaran Ashoori",
      "userId": "00665327493872759992"
     },
     "user_tz": -120
    },
    "id": "6eCgS8A4RMDx",
    "outputId": "24a3b7c5-682c-40e6-b984-10529e0b9d7b"
   },
   "outputs": [
    {
     "name": "stdout",
     "output_type": "stream",
     "text": [
      "<class 'pandas.core.frame.DataFrame'>\n",
      "RangeIndex: 1000 entries, 0 to 999\n",
      "Data columns (total 14 columns):\n",
      " #   Column     Non-Null Count  Dtype  \n",
      "---  ------     --------------  -----  \n",
      " 0   ID         1000 non-null   int64  \n",
      " 1   No_Pation  1000 non-null   int64  \n",
      " 2   Gender     1000 non-null   object \n",
      " 3   AGE        1000 non-null   int64  \n",
      " 4   Urea       1000 non-null   float64\n",
      " 5   Cr         1000 non-null   int64  \n",
      " 6   HbA1c      1000 non-null   float64\n",
      " 7   Chol       1000 non-null   float64\n",
      " 8   TG         1000 non-null   float64\n",
      " 9   HDL        1000 non-null   float64\n",
      " 10  LDL        1000 non-null   float64\n",
      " 11  VLDL       1000 non-null   float64\n",
      " 12  BMI        1000 non-null   float64\n",
      " 13  CLASS      1000 non-null   object \n",
      "dtypes: float64(8), int64(4), object(2)\n",
      "memory usage: 109.5+ KB\n"
     ]
    }
   ],
   "source": [
    "#  Checking how the overal dataset looks like (Any null values? data types? dataframe shape?)\n",
    "\n",
    "data.info()"
   ]
  },
  {
   "cell_type": "code",
   "execution_count": 5,
   "metadata": {
    "colab": {
     "base_uri": "https://localhost:8080/"
    },
    "executionInfo": {
     "elapsed": 5,
     "status": "ok",
     "timestamp": 1689151950534,
     "user": {
      "displayName": "Nastaran Ashoori",
      "userId": "00665327493872759992"
     },
     "user_tz": -120
    },
    "id": "fVjjfmNkIlDk",
    "outputId": "372b1770-963e-4ea3-de13-9a8590bf85cd"
   },
   "outputs": [
    {
     "data": {
      "text/plain": [
       "CLASS\n",
       "Y     840\n",
       "N     102\n",
       "P      53\n",
       "Y       4\n",
       "N       1\n",
       "Name: count, dtype: int64"
      ]
     },
     "execution_count": 5,
     "metadata": {},
     "output_type": "execute_result"
    }
   ],
   "source": [
    "# Particularly interested in how many categories exist in 'CLASS' column and how much patients do exist in each category.\n",
    "# p.n: 'CLASS' column is the \"target variable\" that classifies Non-diabiteic (N), Pre-diabetic (P) and Diabetic patients (Y) in 3 Classes.\n",
    "\n",
    "data[\"CLASS\"].value_counts()"
   ]
  },
  {
   "cell_type": "code",
   "execution_count": 6,
   "metadata": {
    "colab": {
     "base_uri": "https://localhost:8080/",
     "height": 206
    },
    "executionInfo": {
     "elapsed": 6,
     "status": "ok",
     "timestamp": 1689151952336,
     "user": {
      "displayName": "Nastaran Ashoori",
      "userId": "00665327493872759992"
     },
     "user_tz": -120
    },
    "id": "BQczOjSNZIX4",
    "outputId": "1fc1da88-9188-4549-b08a-0418e8d3fcfe"
   },
   "outputs": [
    {
     "data": {
      "text/html": [
       "<div>\n",
       "<style scoped>\n",
       "    .dataframe tbody tr th:only-of-type {\n",
       "        vertical-align: middle;\n",
       "    }\n",
       "\n",
       "    .dataframe tbody tr th {\n",
       "        vertical-align: top;\n",
       "    }\n",
       "\n",
       "    .dataframe thead th {\n",
       "        text-align: right;\n",
       "    }\n",
       "</style>\n",
       "<table border=\"1\" class=\"dataframe\">\n",
       "  <thead>\n",
       "    <tr style=\"text-align: right;\">\n",
       "      <th></th>\n",
       "      <th>ID</th>\n",
       "      <th>No_Pation</th>\n",
       "      <th>Gender</th>\n",
       "      <th>AGE</th>\n",
       "      <th>Urea</th>\n",
       "      <th>Cr</th>\n",
       "      <th>HbA1c</th>\n",
       "      <th>Chol</th>\n",
       "      <th>TG</th>\n",
       "      <th>HDL</th>\n",
       "      <th>LDL</th>\n",
       "      <th>VLDL</th>\n",
       "      <th>BMI</th>\n",
       "      <th>CLASS</th>\n",
       "    </tr>\n",
       "  </thead>\n",
       "  <tbody>\n",
       "    <tr>\n",
       "      <th>102</th>\n",
       "      <td>435</td>\n",
       "      <td>34241</td>\n",
       "      <td>M</td>\n",
       "      <td>38</td>\n",
       "      <td>6.1</td>\n",
       "      <td>83</td>\n",
       "      <td>5.4</td>\n",
       "      <td>4.5</td>\n",
       "      <td>1.7</td>\n",
       "      <td>0.9</td>\n",
       "      <td>2.8</td>\n",
       "      <td>0.8</td>\n",
       "      <td>24.6</td>\n",
       "      <td>N</td>\n",
       "    </tr>\n",
       "    <tr>\n",
       "      <th>996</th>\n",
       "      <td>671</td>\n",
       "      <td>876534</td>\n",
       "      <td>M</td>\n",
       "      <td>31</td>\n",
       "      <td>3.0</td>\n",
       "      <td>60</td>\n",
       "      <td>12.3</td>\n",
       "      <td>4.1</td>\n",
       "      <td>2.2</td>\n",
       "      <td>0.7</td>\n",
       "      <td>2.4</td>\n",
       "      <td>15.4</td>\n",
       "      <td>37.2</td>\n",
       "      <td>Y</td>\n",
       "    </tr>\n",
       "    <tr>\n",
       "      <th>997</th>\n",
       "      <td>669</td>\n",
       "      <td>87654</td>\n",
       "      <td>M</td>\n",
       "      <td>30</td>\n",
       "      <td>7.1</td>\n",
       "      <td>81</td>\n",
       "      <td>6.7</td>\n",
       "      <td>4.1</td>\n",
       "      <td>1.1</td>\n",
       "      <td>1.2</td>\n",
       "      <td>2.4</td>\n",
       "      <td>8.1</td>\n",
       "      <td>27.4</td>\n",
       "      <td>Y</td>\n",
       "    </tr>\n",
       "    <tr>\n",
       "      <th>998</th>\n",
       "      <td>99</td>\n",
       "      <td>24004</td>\n",
       "      <td>M</td>\n",
       "      <td>38</td>\n",
       "      <td>5.8</td>\n",
       "      <td>59</td>\n",
       "      <td>6.7</td>\n",
       "      <td>5.3</td>\n",
       "      <td>2.0</td>\n",
       "      <td>1.6</td>\n",
       "      <td>2.9</td>\n",
       "      <td>14.0</td>\n",
       "      <td>40.5</td>\n",
       "      <td>Y</td>\n",
       "    </tr>\n",
       "    <tr>\n",
       "      <th>999</th>\n",
       "      <td>248</td>\n",
       "      <td>24054</td>\n",
       "      <td>M</td>\n",
       "      <td>54</td>\n",
       "      <td>5.0</td>\n",
       "      <td>67</td>\n",
       "      <td>6.9</td>\n",
       "      <td>3.8</td>\n",
       "      <td>1.7</td>\n",
       "      <td>1.1</td>\n",
       "      <td>3.0</td>\n",
       "      <td>0.7</td>\n",
       "      <td>33.0</td>\n",
       "      <td>Y</td>\n",
       "    </tr>\n",
       "  </tbody>\n",
       "</table>\n",
       "</div>"
      ],
      "text/plain": [
       "      ID  No_Pation Gender  AGE  Urea  Cr  HbA1c  Chol   TG  HDL  LDL  VLDL  \\\n",
       "102  435      34241      M   38   6.1  83    5.4   4.5  1.7  0.9  2.8   0.8   \n",
       "996  671     876534      M   31   3.0  60   12.3   4.1  2.2  0.7  2.4  15.4   \n",
       "997  669      87654      M   30   7.1  81    6.7   4.1  1.1  1.2  2.4   8.1   \n",
       "998   99      24004      M   38   5.8  59    6.7   5.3  2.0  1.6  2.9  14.0   \n",
       "999  248      24054      M   54   5.0  67    6.9   3.8  1.7  1.1  3.0   0.7   \n",
       "\n",
       "      BMI CLASS  \n",
       "102  24.6    N   \n",
       "996  37.2    Y   \n",
       "997  27.4    Y   \n",
       "998  40.5    Y   \n",
       "999  33.0    Y   "
      ]
     },
     "execution_count": 6,
     "metadata": {},
     "output_type": "execute_result"
    }
   ],
   "source": [
    "#  There are redundant categories perhaps due to typing error, let's check!\n",
    "\n",
    "data[(data[\"CLASS\"] == \"Y \") | (data[\"CLASS\"] == \"N \")]"
   ]
  },
  {
   "cell_type": "code",
   "execution_count": 7,
   "metadata": {
    "executionInfo": {
     "elapsed": 6,
     "status": "ok",
     "timestamp": 1689151954090,
     "user": {
      "displayName": "Nastaran Ashoori",
      "userId": "00665327493872759992"
     },
     "user_tz": -120
    },
    "id": "7ah0mDm_Tjuy"
   },
   "outputs": [],
   "source": [
    "# Removing empty spaces and therfore categorizing 'CLASS' column into 3 categories (N, P, Y)\n",
    "\n",
    "data[\"CLASS\"] = data[\"CLASS\"].str.strip()"
   ]
  },
  {
   "cell_type": "code",
   "execution_count": 8,
   "metadata": {
    "colab": {
     "base_uri": "https://localhost:8080/"
    },
    "executionInfo": {
     "elapsed": 8,
     "status": "ok",
     "timestamp": 1689151955517,
     "user": {
      "displayName": "Nastaran Ashoori",
      "userId": "00665327493872759992"
     },
     "user_tz": -120
    },
    "id": "7ZTE2Y0gTYvb",
    "outputId": "1111387d-ab71-43d5-e6ee-a9eda3ffcff9"
   },
   "outputs": [
    {
     "data": {
      "text/plain": [
       "CLASS\n",
       "Y    844\n",
       "N    103\n",
       "P     53\n",
       "Name: count, dtype: int64"
      ]
     },
     "execution_count": 8,
     "metadata": {},
     "output_type": "execute_result"
    }
   ],
   "source": [
    "# Checking if now the 'CLASS' column is clean \n",
    "\n",
    "data[\"CLASS\"].value_counts()"
   ]
  },
  {
   "cell_type": "code",
   "execution_count": 9,
   "metadata": {
    "executionInfo": {
     "elapsed": 6,
     "status": "ok",
     "timestamp": 1689151965691,
     "user": {
      "displayName": "Nastaran Ashoori",
      "userId": "00665327493872759992"
     },
     "user_tz": -120
    },
    "id": "ub4I3t9fjEXD"
   },
   "outputs": [],
   "source": [
    "# For easier readability of the code, let's change 'N': 'Non-Diabetic', 'P': 'Pre-Diabetic', 'Y': 'Diabetic'\n",
    "\n",
    "data.CLASS = data.CLASS.map({'N': 'Non-Diabetic', 'P': 'Pre-Diabetic', 'Y': 'Diabetic'})"
   ]
  },
  {
   "cell_type": "code",
   "execution_count": 10,
   "metadata": {
    "colab": {
     "base_uri": "https://localhost:8080/"
    },
    "executionInfo": {
     "elapsed": 4,
     "status": "ok",
     "timestamp": 1689151967237,
     "user": {
      "displayName": "Nastaran Ashoori",
      "userId": "00665327493872759992"
     },
     "user_tz": -120
    },
    "id": "YOD1mB2WjgY_",
    "outputId": "7df91352-cc98-423b-f9fb-9ed669a533fa"
   },
   "outputs": [
    {
     "data": {
      "text/plain": [
       "CLASS\n",
       "Diabetic        844\n",
       "Non-Diabetic    103\n",
       "Pre-Diabetic     53\n",
       "Name: count, dtype: int64"
      ]
     },
     "execution_count": 10,
     "metadata": {},
     "output_type": "execute_result"
    }
   ],
   "source": [
    "data.CLASS.value_counts()"
   ]
  },
  {
   "cell_type": "code",
   "execution_count": 11,
   "metadata": {
    "colab": {
     "base_uri": "https://localhost:8080/"
    },
    "executionInfo": {
     "elapsed": 7,
     "status": "ok",
     "timestamp": 1689151957351,
     "user": {
      "displayName": "Nastaran Ashoori",
      "userId": "00665327493872759992"
     },
     "user_tz": -120
    },
    "id": "QpJ4hFdWUFCJ",
    "outputId": "92ad354f-abe3-4398-d893-e5ad81f983c4"
   },
   "outputs": [
    {
     "data": {
      "text/plain": [
       "Gender\n",
       "M    565\n",
       "F    434\n",
       "f      1\n",
       "Name: count, dtype: int64"
      ]
     },
     "execution_count": 11,
     "metadata": {},
     "output_type": "execute_result"
    }
   ],
   "source": [
    "# How does the 'Gender' column looks like? As an Object type is there any type issues in this column?\n",
    "\n",
    "data[\"Gender\"].value_counts()"
   ]
  },
  {
   "cell_type": "code",
   "execution_count": 12,
   "metadata": {
    "executionInfo": {
     "elapsed": 4,
     "status": "ok",
     "timestamp": 1689151959567,
     "user": {
      "displayName": "Nastaran Ashoori",
      "userId": "00665327493872759992"
     },
     "user_tz": -120
    },
    "id": "nMR3yEzmUSQD"
   },
   "outputs": [],
   "source": [
    "# Chainging 'Gender' column into uppercase \n",
    "\n",
    "data[\"Gender\"] = data[\"Gender\"].str.upper()"
   ]
  },
  {
   "cell_type": "code",
   "execution_count": 13,
   "metadata": {
    "colab": {
     "base_uri": "https://localhost:8080/"
    },
    "executionInfo": {
     "elapsed": 8,
     "status": "ok",
     "timestamp": 1689151961171,
     "user": {
      "displayName": "Nastaran Ashoori",
      "userId": "00665327493872759992"
     },
     "user_tz": -120
    },
    "id": "UAlRQsC1Jj3h",
    "outputId": "47ec6f0a-62fb-4f1d-ad36-6ecc50324720"
   },
   "outputs": [
    {
     "data": {
      "text/plain": [
       "Gender\n",
       "M    565\n",
       "F    435\n",
       "Name: count, dtype: int64"
      ]
     },
     "execution_count": 13,
     "metadata": {},
     "output_type": "execute_result"
    }
   ],
   "source": [
    "# Checking if now the 'Gender' column is clean \n",
    "\n",
    "data[\"Gender\"].value_counts()"
   ]
  },
  {
   "cell_type": "code",
   "execution_count": 14,
   "metadata": {
    "executionInfo": {
     "elapsed": 5,
     "status": "ok",
     "timestamp": 1689151963022,
     "user": {
      "displayName": "Nastaran Ashoori",
      "userId": "00665327493872759992"
     },
     "user_tz": -120
    },
    "id": "Tx2tVcUwiRMa"
   },
   "outputs": [],
   "source": [
    "# For easier readability of the code, let's change 'F' into 'Female' and 'M' into 'Male'\n",
    "\n",
    "data.Gender = data.Gender.map({'F': 'Female', 'M': 'Male'})"
   ]
  },
  {
   "cell_type": "code",
   "execution_count": 15,
   "metadata": {
    "colab": {
     "base_uri": "https://localhost:8080/"
    },
    "executionInfo": {
     "elapsed": 5,
     "status": "ok",
     "timestamp": 1689151965254,
     "user": {
      "displayName": "Nastaran Ashoori",
      "userId": "00665327493872759992"
     },
     "user_tz": -120
    },
    "id": "2yFRE6uN4Ord",
    "outputId": "708d1d2a-5034-48a9-a935-cdda579824aa"
   },
   "outputs": [
    {
     "data": {
      "text/plain": [
       "Gender\n",
       "Male      565\n",
       "Female    435\n",
       "Name: count, dtype: int64"
      ]
     },
     "execution_count": 15,
     "metadata": {},
     "output_type": "execute_result"
    }
   ],
   "source": [
    "data.Gender.value_counts()"
   ]
  },
  {
   "cell_type": "code",
   "execution_count": 16,
   "metadata": {
    "colab": {
     "base_uri": "https://localhost:8080/",
     "height": 206
    },
    "executionInfo": {
     "elapsed": 389,
     "status": "ok",
     "timestamp": 1689151969888,
     "user": {
      "displayName": "Nastaran Ashoori",
      "userId": "00665327493872759992"
     },
     "user_tz": -120
    },
    "id": "w3p3fOp-Umqk",
    "outputId": "bceb57ea-89bf-4308-f51b-823cd56c2eb3"
   },
   "outputs": [
    {
     "data": {
      "text/html": [
       "<div>\n",
       "<style scoped>\n",
       "    .dataframe tbody tr th:only-of-type {\n",
       "        vertical-align: middle;\n",
       "    }\n",
       "\n",
       "    .dataframe tbody tr th {\n",
       "        vertical-align: top;\n",
       "    }\n",
       "\n",
       "    .dataframe thead th {\n",
       "        text-align: right;\n",
       "    }\n",
       "</style>\n",
       "<table border=\"1\" class=\"dataframe\">\n",
       "  <thead>\n",
       "    <tr style=\"text-align: right;\">\n",
       "      <th></th>\n",
       "      <th>ID</th>\n",
       "      <th>No_Pation</th>\n",
       "      <th>Gender</th>\n",
       "      <th>AGE</th>\n",
       "      <th>Urea</th>\n",
       "      <th>Cr</th>\n",
       "      <th>HbA1c</th>\n",
       "      <th>Chol</th>\n",
       "      <th>TG</th>\n",
       "      <th>HDL</th>\n",
       "      <th>LDL</th>\n",
       "      <th>VLDL</th>\n",
       "      <th>BMI</th>\n",
       "      <th>CLASS</th>\n",
       "      <th>CLASS_Category</th>\n",
       "    </tr>\n",
       "  </thead>\n",
       "  <tbody>\n",
       "    <tr>\n",
       "      <th>0</th>\n",
       "      <td>502</td>\n",
       "      <td>17975</td>\n",
       "      <td>Female</td>\n",
       "      <td>50</td>\n",
       "      <td>4.7</td>\n",
       "      <td>46</td>\n",
       "      <td>4.9</td>\n",
       "      <td>4.2</td>\n",
       "      <td>0.9</td>\n",
       "      <td>2.4</td>\n",
       "      <td>1.4</td>\n",
       "      <td>0.5</td>\n",
       "      <td>24.0</td>\n",
       "      <td>Non-Diabetic</td>\n",
       "      <td>0</td>\n",
       "    </tr>\n",
       "    <tr>\n",
       "      <th>1</th>\n",
       "      <td>735</td>\n",
       "      <td>34221</td>\n",
       "      <td>Male</td>\n",
       "      <td>26</td>\n",
       "      <td>4.5</td>\n",
       "      <td>62</td>\n",
       "      <td>4.9</td>\n",
       "      <td>3.7</td>\n",
       "      <td>1.4</td>\n",
       "      <td>1.1</td>\n",
       "      <td>2.1</td>\n",
       "      <td>0.6</td>\n",
       "      <td>23.0</td>\n",
       "      <td>Non-Diabetic</td>\n",
       "      <td>0</td>\n",
       "    </tr>\n",
       "    <tr>\n",
       "      <th>2</th>\n",
       "      <td>420</td>\n",
       "      <td>47975</td>\n",
       "      <td>Female</td>\n",
       "      <td>50</td>\n",
       "      <td>4.7</td>\n",
       "      <td>46</td>\n",
       "      <td>4.9</td>\n",
       "      <td>4.2</td>\n",
       "      <td>0.9</td>\n",
       "      <td>2.4</td>\n",
       "      <td>1.4</td>\n",
       "      <td>0.5</td>\n",
       "      <td>24.0</td>\n",
       "      <td>Non-Diabetic</td>\n",
       "      <td>0</td>\n",
       "    </tr>\n",
       "    <tr>\n",
       "      <th>3</th>\n",
       "      <td>680</td>\n",
       "      <td>87656</td>\n",
       "      <td>Female</td>\n",
       "      <td>50</td>\n",
       "      <td>4.7</td>\n",
       "      <td>46</td>\n",
       "      <td>4.9</td>\n",
       "      <td>4.2</td>\n",
       "      <td>0.9</td>\n",
       "      <td>2.4</td>\n",
       "      <td>1.4</td>\n",
       "      <td>0.5</td>\n",
       "      <td>24.0</td>\n",
       "      <td>Non-Diabetic</td>\n",
       "      <td>0</td>\n",
       "    </tr>\n",
       "    <tr>\n",
       "      <th>4</th>\n",
       "      <td>504</td>\n",
       "      <td>34223</td>\n",
       "      <td>Male</td>\n",
       "      <td>33</td>\n",
       "      <td>7.1</td>\n",
       "      <td>46</td>\n",
       "      <td>4.9</td>\n",
       "      <td>4.9</td>\n",
       "      <td>1.0</td>\n",
       "      <td>0.8</td>\n",
       "      <td>2.0</td>\n",
       "      <td>0.4</td>\n",
       "      <td>21.0</td>\n",
       "      <td>Non-Diabetic</td>\n",
       "      <td>0</td>\n",
       "    </tr>\n",
       "  </tbody>\n",
       "</table>\n",
       "</div>"
      ],
      "text/plain": [
       "    ID  No_Pation  Gender  AGE  Urea  Cr  HbA1c  Chol   TG  HDL  LDL  VLDL  \\\n",
       "0  502      17975  Female   50   4.7  46    4.9   4.2  0.9  2.4  1.4   0.5   \n",
       "1  735      34221    Male   26   4.5  62    4.9   3.7  1.4  1.1  2.1   0.6   \n",
       "2  420      47975  Female   50   4.7  46    4.9   4.2  0.9  2.4  1.4   0.5   \n",
       "3  680      87656  Female   50   4.7  46    4.9   4.2  0.9  2.4  1.4   0.5   \n",
       "4  504      34223    Male   33   7.1  46    4.9   4.9  1.0  0.8  2.0   0.4   \n",
       "\n",
       "    BMI         CLASS  CLASS_Category  \n",
       "0  24.0  Non-Diabetic               0  \n",
       "1  23.0  Non-Diabetic               0  \n",
       "2  24.0  Non-Diabetic               0  \n",
       "3  24.0  Non-Diabetic               0  \n",
       "4  21.0  Non-Diabetic               0  "
      ]
     },
     "execution_count": 16,
     "metadata": {},
     "output_type": "execute_result"
    }
   ],
   "source": [
    "# Adding a numerical column as 'CLASS_Category' from 'CLASS' column for feasibility of further Analysis and Machine Learning (ML)\n",
    "\n",
    "data['CLASS_Category'] = data['CLASS'].map({'Non-Diabetic': 0, 'Pre-Diabetic': 1, 'Diabetic': 2})\n",
    "data.head()"
   ]
  },
  {
   "cell_type": "code",
   "execution_count": 17,
   "metadata": {
    "executionInfo": {
     "elapsed": 373,
     "status": "ok",
     "timestamp": 1689151981231,
     "user": {
      "displayName": "Nastaran Ashoori",
      "userId": "00665327493872759992"
     },
     "user_tz": -120
    },
    "id": "Uhz6ov-3RvYu"
   },
   "outputs": [],
   "source": [
    "# Changing the data type of 'CLASS' and 'Gender'as the only objects into 'category' \n",
    "\n",
    "data[[\"CLASS\", \"Gender\"]] = data[[\"CLASS\", \"Gender\"]].astype(\"category\")"
   ]
  },
  {
   "cell_type": "code",
   "execution_count": 18,
   "metadata": {
    "colab": {
     "base_uri": "https://localhost:8080/"
    },
    "executionInfo": {
     "elapsed": 437,
     "status": "ok",
     "timestamp": 1689151986533,
     "user": {
      "displayName": "Nastaran Ashoori",
      "userId": "00665327493872759992"
     },
     "user_tz": -120
    },
    "id": "qdmScr58H_Qz",
    "outputId": "bece1342-7cf2-490e-c68d-a7bc27476eb2"
   },
   "outputs": [
    {
     "data": {
      "text/plain": [
       "ID                   int64\n",
       "No_Pation            int64\n",
       "Gender            category\n",
       "AGE                  int64\n",
       "Urea               float64\n",
       "Cr                   int64\n",
       "HbA1c              float64\n",
       "Chol               float64\n",
       "TG                 float64\n",
       "HDL                float64\n",
       "LDL                float64\n",
       "VLDL               float64\n",
       "BMI                float64\n",
       "CLASS             category\n",
       "CLASS_Category       int64\n",
       "dtype: object"
      ]
     },
     "execution_count": 18,
     "metadata": {},
     "output_type": "execute_result"
    }
   ],
   "source": [
    "# Checking data type of every column\n",
    "\n",
    "data.dtypes"
   ]
  },
  {
   "cell_type": "code",
   "execution_count": 19,
   "metadata": {
    "executionInfo": {
     "elapsed": 7,
     "status": "ok",
     "timestamp": 1689151992781,
     "user": {
      "displayName": "Nastaran Ashoori",
      "userId": "00665327493872759992"
     },
     "user_tz": -120
    },
    "id": "uZtjN9I2YU6t"
   },
   "outputs": [],
   "source": [
    "# Adding a numerical column as 'Gender_Category' from 'Gender' column for feasibility of further Analysis and Machine Learning (ML)\n",
    "\n",
    "data[\"Gender_Category\"] = data[\"Gender\"].cat.codes"
   ]
  },
  {
   "cell_type": "code",
   "execution_count": 20,
   "metadata": {
    "colab": {
     "base_uri": "https://localhost:8080/",
     "height": 423
    },
    "executionInfo": {
     "elapsed": 5,
     "status": "ok",
     "timestamp": 1689151989932,
     "user": {
      "displayName": "Nastaran Ashoori",
      "userId": "00665327493872759992"
     },
     "user_tz": -120
    },
    "id": "-Zes2bCrYLZl",
    "outputId": "44580739-9f94-4d1d-d234-7b6fcbacda81"
   },
   "outputs": [
    {
     "data": {
      "text/html": [
       "<div>\n",
       "<style scoped>\n",
       "    .dataframe tbody tr th:only-of-type {\n",
       "        vertical-align: middle;\n",
       "    }\n",
       "\n",
       "    .dataframe tbody tr th {\n",
       "        vertical-align: top;\n",
       "    }\n",
       "\n",
       "    .dataframe thead th {\n",
       "        text-align: right;\n",
       "    }\n",
       "</style>\n",
       "<table border=\"1\" class=\"dataframe\">\n",
       "  <thead>\n",
       "    <tr style=\"text-align: right;\">\n",
       "      <th></th>\n",
       "      <th>ID</th>\n",
       "      <th>No_Pation</th>\n",
       "      <th>Gender</th>\n",
       "      <th>AGE</th>\n",
       "      <th>Urea</th>\n",
       "      <th>Cr</th>\n",
       "      <th>HbA1c</th>\n",
       "      <th>Chol</th>\n",
       "      <th>TG</th>\n",
       "      <th>HDL</th>\n",
       "      <th>LDL</th>\n",
       "      <th>VLDL</th>\n",
       "      <th>BMI</th>\n",
       "      <th>CLASS</th>\n",
       "      <th>CLASS_Category</th>\n",
       "      <th>Gender_Category</th>\n",
       "    </tr>\n",
       "  </thead>\n",
       "  <tbody>\n",
       "    <tr>\n",
       "      <th>0</th>\n",
       "      <td>502</td>\n",
       "      <td>17975</td>\n",
       "      <td>Female</td>\n",
       "      <td>50</td>\n",
       "      <td>4.7</td>\n",
       "      <td>46</td>\n",
       "      <td>4.9</td>\n",
       "      <td>4.2</td>\n",
       "      <td>0.9</td>\n",
       "      <td>2.4</td>\n",
       "      <td>1.4</td>\n",
       "      <td>0.5</td>\n",
       "      <td>24.0</td>\n",
       "      <td>Non-Diabetic</td>\n",
       "      <td>0</td>\n",
       "      <td>0</td>\n",
       "    </tr>\n",
       "    <tr>\n",
       "      <th>1</th>\n",
       "      <td>735</td>\n",
       "      <td>34221</td>\n",
       "      <td>Male</td>\n",
       "      <td>26</td>\n",
       "      <td>4.5</td>\n",
       "      <td>62</td>\n",
       "      <td>4.9</td>\n",
       "      <td>3.7</td>\n",
       "      <td>1.4</td>\n",
       "      <td>1.1</td>\n",
       "      <td>2.1</td>\n",
       "      <td>0.6</td>\n",
       "      <td>23.0</td>\n",
       "      <td>Non-Diabetic</td>\n",
       "      <td>0</td>\n",
       "      <td>1</td>\n",
       "    </tr>\n",
       "    <tr>\n",
       "      <th>2</th>\n",
       "      <td>420</td>\n",
       "      <td>47975</td>\n",
       "      <td>Female</td>\n",
       "      <td>50</td>\n",
       "      <td>4.7</td>\n",
       "      <td>46</td>\n",
       "      <td>4.9</td>\n",
       "      <td>4.2</td>\n",
       "      <td>0.9</td>\n",
       "      <td>2.4</td>\n",
       "      <td>1.4</td>\n",
       "      <td>0.5</td>\n",
       "      <td>24.0</td>\n",
       "      <td>Non-Diabetic</td>\n",
       "      <td>0</td>\n",
       "      <td>0</td>\n",
       "    </tr>\n",
       "    <tr>\n",
       "      <th>3</th>\n",
       "      <td>680</td>\n",
       "      <td>87656</td>\n",
       "      <td>Female</td>\n",
       "      <td>50</td>\n",
       "      <td>4.7</td>\n",
       "      <td>46</td>\n",
       "      <td>4.9</td>\n",
       "      <td>4.2</td>\n",
       "      <td>0.9</td>\n",
       "      <td>2.4</td>\n",
       "      <td>1.4</td>\n",
       "      <td>0.5</td>\n",
       "      <td>24.0</td>\n",
       "      <td>Non-Diabetic</td>\n",
       "      <td>0</td>\n",
       "      <td>0</td>\n",
       "    </tr>\n",
       "    <tr>\n",
       "      <th>4</th>\n",
       "      <td>504</td>\n",
       "      <td>34223</td>\n",
       "      <td>Male</td>\n",
       "      <td>33</td>\n",
       "      <td>7.1</td>\n",
       "      <td>46</td>\n",
       "      <td>4.9</td>\n",
       "      <td>4.9</td>\n",
       "      <td>1.0</td>\n",
       "      <td>0.8</td>\n",
       "      <td>2.0</td>\n",
       "      <td>0.4</td>\n",
       "      <td>21.0</td>\n",
       "      <td>Non-Diabetic</td>\n",
       "      <td>0</td>\n",
       "      <td>1</td>\n",
       "    </tr>\n",
       "    <tr>\n",
       "      <th>...</th>\n",
       "      <td>...</td>\n",
       "      <td>...</td>\n",
       "      <td>...</td>\n",
       "      <td>...</td>\n",
       "      <td>...</td>\n",
       "      <td>...</td>\n",
       "      <td>...</td>\n",
       "      <td>...</td>\n",
       "      <td>...</td>\n",
       "      <td>...</td>\n",
       "      <td>...</td>\n",
       "      <td>...</td>\n",
       "      <td>...</td>\n",
       "      <td>...</td>\n",
       "      <td>...</td>\n",
       "      <td>...</td>\n",
       "    </tr>\n",
       "    <tr>\n",
       "      <th>995</th>\n",
       "      <td>200</td>\n",
       "      <td>454317</td>\n",
       "      <td>Male</td>\n",
       "      <td>71</td>\n",
       "      <td>11.0</td>\n",
       "      <td>97</td>\n",
       "      <td>7.0</td>\n",
       "      <td>7.5</td>\n",
       "      <td>1.7</td>\n",
       "      <td>1.2</td>\n",
       "      <td>1.8</td>\n",
       "      <td>0.6</td>\n",
       "      <td>30.0</td>\n",
       "      <td>Diabetic</td>\n",
       "      <td>2</td>\n",
       "      <td>1</td>\n",
       "    </tr>\n",
       "    <tr>\n",
       "      <th>996</th>\n",
       "      <td>671</td>\n",
       "      <td>876534</td>\n",
       "      <td>Male</td>\n",
       "      <td>31</td>\n",
       "      <td>3.0</td>\n",
       "      <td>60</td>\n",
       "      <td>12.3</td>\n",
       "      <td>4.1</td>\n",
       "      <td>2.2</td>\n",
       "      <td>0.7</td>\n",
       "      <td>2.4</td>\n",
       "      <td>15.4</td>\n",
       "      <td>37.2</td>\n",
       "      <td>Diabetic</td>\n",
       "      <td>2</td>\n",
       "      <td>1</td>\n",
       "    </tr>\n",
       "    <tr>\n",
       "      <th>997</th>\n",
       "      <td>669</td>\n",
       "      <td>87654</td>\n",
       "      <td>Male</td>\n",
       "      <td>30</td>\n",
       "      <td>7.1</td>\n",
       "      <td>81</td>\n",
       "      <td>6.7</td>\n",
       "      <td>4.1</td>\n",
       "      <td>1.1</td>\n",
       "      <td>1.2</td>\n",
       "      <td>2.4</td>\n",
       "      <td>8.1</td>\n",
       "      <td>27.4</td>\n",
       "      <td>Diabetic</td>\n",
       "      <td>2</td>\n",
       "      <td>1</td>\n",
       "    </tr>\n",
       "    <tr>\n",
       "      <th>998</th>\n",
       "      <td>99</td>\n",
       "      <td>24004</td>\n",
       "      <td>Male</td>\n",
       "      <td>38</td>\n",
       "      <td>5.8</td>\n",
       "      <td>59</td>\n",
       "      <td>6.7</td>\n",
       "      <td>5.3</td>\n",
       "      <td>2.0</td>\n",
       "      <td>1.6</td>\n",
       "      <td>2.9</td>\n",
       "      <td>14.0</td>\n",
       "      <td>40.5</td>\n",
       "      <td>Diabetic</td>\n",
       "      <td>2</td>\n",
       "      <td>1</td>\n",
       "    </tr>\n",
       "    <tr>\n",
       "      <th>999</th>\n",
       "      <td>248</td>\n",
       "      <td>24054</td>\n",
       "      <td>Male</td>\n",
       "      <td>54</td>\n",
       "      <td>5.0</td>\n",
       "      <td>67</td>\n",
       "      <td>6.9</td>\n",
       "      <td>3.8</td>\n",
       "      <td>1.7</td>\n",
       "      <td>1.1</td>\n",
       "      <td>3.0</td>\n",
       "      <td>0.7</td>\n",
       "      <td>33.0</td>\n",
       "      <td>Diabetic</td>\n",
       "      <td>2</td>\n",
       "      <td>1</td>\n",
       "    </tr>\n",
       "  </tbody>\n",
       "</table>\n",
       "<p>1000 rows × 16 columns</p>\n",
       "</div>"
      ],
      "text/plain": [
       "      ID  No_Pation  Gender  AGE  Urea  Cr  HbA1c  Chol   TG  HDL  LDL  VLDL  \\\n",
       "0    502      17975  Female   50   4.7  46    4.9   4.2  0.9  2.4  1.4   0.5   \n",
       "1    735      34221    Male   26   4.5  62    4.9   3.7  1.4  1.1  2.1   0.6   \n",
       "2    420      47975  Female   50   4.7  46    4.9   4.2  0.9  2.4  1.4   0.5   \n",
       "3    680      87656  Female   50   4.7  46    4.9   4.2  0.9  2.4  1.4   0.5   \n",
       "4    504      34223    Male   33   7.1  46    4.9   4.9  1.0  0.8  2.0   0.4   \n",
       "..   ...        ...     ...  ...   ...  ..    ...   ...  ...  ...  ...   ...   \n",
       "995  200     454317    Male   71  11.0  97    7.0   7.5  1.7  1.2  1.8   0.6   \n",
       "996  671     876534    Male   31   3.0  60   12.3   4.1  2.2  0.7  2.4  15.4   \n",
       "997  669      87654    Male   30   7.1  81    6.7   4.1  1.1  1.2  2.4   8.1   \n",
       "998   99      24004    Male   38   5.8  59    6.7   5.3  2.0  1.6  2.9  14.0   \n",
       "999  248      24054    Male   54   5.0  67    6.9   3.8  1.7  1.1  3.0   0.7   \n",
       "\n",
       "      BMI         CLASS  CLASS_Category  Gender_Category  \n",
       "0    24.0  Non-Diabetic               0                0  \n",
       "1    23.0  Non-Diabetic               0                1  \n",
       "2    24.0  Non-Diabetic               0                0  \n",
       "3    24.0  Non-Diabetic               0                0  \n",
       "4    21.0  Non-Diabetic               0                1  \n",
       "..    ...           ...             ...              ...  \n",
       "995  30.0      Diabetic               2                1  \n",
       "996  37.2      Diabetic               2                1  \n",
       "997  27.4      Diabetic               2                1  \n",
       "998  40.5      Diabetic               2                1  \n",
       "999  33.0      Diabetic               2                1  \n",
       "\n",
       "[1000 rows x 16 columns]"
      ]
     },
     "execution_count": 20,
     "metadata": {},
     "output_type": "execute_result"
    }
   ],
   "source": [
    "# Take a look at the dataset with new changes and added columns\n",
    "\n",
    "data"
   ]
  },
  {
   "cell_type": "code",
   "execution_count": 21,
   "metadata": {
    "colab": {
     "base_uri": "https://localhost:8080/"
    },
    "executionInfo": {
     "elapsed": 8,
     "status": "ok",
     "timestamp": 1689151988034,
     "user": {
      "displayName": "Nastaran Ashoori",
      "userId": "00665327493872759992"
     },
     "user_tz": -120
    },
    "id": "ju0eBtDfVSN0",
    "outputId": "c5996443-6e51-4faa-ce36-ad56d8852e99"
   },
   "outputs": [
    {
     "data": {
      "text/plain": [
       "ID                 0\n",
       "No_Pation          0\n",
       "Gender             0\n",
       "AGE                0\n",
       "Urea               0\n",
       "Cr                 0\n",
       "HbA1c              0\n",
       "Chol               0\n",
       "TG                 0\n",
       "HDL                0\n",
       "LDL                0\n",
       "VLDL               0\n",
       "BMI                0\n",
       "CLASS              0\n",
       "CLASS_Category     0\n",
       "Gender_Category    0\n",
       "dtype: int64"
      ]
     },
     "execution_count": 21,
     "metadata": {},
     "output_type": "execute_result"
    }
   ],
   "source": [
    "# Double check if there is any null value in the dataset\n",
    "\n",
    "data.isna().sum()"
   ]
  },
  {
   "cell_type": "code",
   "execution_count": 22,
   "metadata": {
    "executionInfo": {
     "elapsed": 5,
     "status": "ok",
     "timestamp": 1689151999460,
     "user": {
      "displayName": "Nastaran Ashoori",
      "userId": "00665327493872759992"
     },
     "user_tz": -120
    },
    "id": "Yo38UARIZMLI"
   },
   "outputs": [],
   "source": [
    "# Droping unnecessary columns that interfer with statistics, exploratory data analysis(EDA) and ML\n",
    "\n",
    "data = data.drop([\"ID\", \"No_Pation\"], axis = 1)"
   ]
  },
  {
   "cell_type": "code",
   "execution_count": 23,
   "metadata": {
    "colab": {
     "base_uri": "https://localhost:8080/",
     "height": 423
    },
    "executionInfo": {
     "elapsed": 19,
     "status": "ok",
     "timestamp": 1689152000898,
     "user": {
      "displayName": "Nastaran Ashoori",
      "userId": "00665327493872759992"
     },
     "user_tz": -120
    },
    "id": "qB0KRAr-ZYqY",
    "outputId": "93113e18-1e7c-4298-cede-52d2cd717f39"
   },
   "outputs": [
    {
     "data": {
      "text/html": [
       "<div>\n",
       "<style scoped>\n",
       "    .dataframe tbody tr th:only-of-type {\n",
       "        vertical-align: middle;\n",
       "    }\n",
       "\n",
       "    .dataframe tbody tr th {\n",
       "        vertical-align: top;\n",
       "    }\n",
       "\n",
       "    .dataframe thead th {\n",
       "        text-align: right;\n",
       "    }\n",
       "</style>\n",
       "<table border=\"1\" class=\"dataframe\">\n",
       "  <thead>\n",
       "    <tr style=\"text-align: right;\">\n",
       "      <th></th>\n",
       "      <th>Gender</th>\n",
       "      <th>AGE</th>\n",
       "      <th>Urea</th>\n",
       "      <th>Cr</th>\n",
       "      <th>HbA1c</th>\n",
       "      <th>Chol</th>\n",
       "      <th>TG</th>\n",
       "      <th>HDL</th>\n",
       "      <th>LDL</th>\n",
       "      <th>VLDL</th>\n",
       "      <th>BMI</th>\n",
       "      <th>CLASS</th>\n",
       "      <th>CLASS_Category</th>\n",
       "      <th>Gender_Category</th>\n",
       "    </tr>\n",
       "  </thead>\n",
       "  <tbody>\n",
       "    <tr>\n",
       "      <th>0</th>\n",
       "      <td>Female</td>\n",
       "      <td>50</td>\n",
       "      <td>4.7</td>\n",
       "      <td>46</td>\n",
       "      <td>4.9</td>\n",
       "      <td>4.2</td>\n",
       "      <td>0.9</td>\n",
       "      <td>2.4</td>\n",
       "      <td>1.4</td>\n",
       "      <td>0.5</td>\n",
       "      <td>24.0</td>\n",
       "      <td>Non-Diabetic</td>\n",
       "      <td>0</td>\n",
       "      <td>0</td>\n",
       "    </tr>\n",
       "    <tr>\n",
       "      <th>1</th>\n",
       "      <td>Male</td>\n",
       "      <td>26</td>\n",
       "      <td>4.5</td>\n",
       "      <td>62</td>\n",
       "      <td>4.9</td>\n",
       "      <td>3.7</td>\n",
       "      <td>1.4</td>\n",
       "      <td>1.1</td>\n",
       "      <td>2.1</td>\n",
       "      <td>0.6</td>\n",
       "      <td>23.0</td>\n",
       "      <td>Non-Diabetic</td>\n",
       "      <td>0</td>\n",
       "      <td>1</td>\n",
       "    </tr>\n",
       "    <tr>\n",
       "      <th>2</th>\n",
       "      <td>Female</td>\n",
       "      <td>50</td>\n",
       "      <td>4.7</td>\n",
       "      <td>46</td>\n",
       "      <td>4.9</td>\n",
       "      <td>4.2</td>\n",
       "      <td>0.9</td>\n",
       "      <td>2.4</td>\n",
       "      <td>1.4</td>\n",
       "      <td>0.5</td>\n",
       "      <td>24.0</td>\n",
       "      <td>Non-Diabetic</td>\n",
       "      <td>0</td>\n",
       "      <td>0</td>\n",
       "    </tr>\n",
       "    <tr>\n",
       "      <th>3</th>\n",
       "      <td>Female</td>\n",
       "      <td>50</td>\n",
       "      <td>4.7</td>\n",
       "      <td>46</td>\n",
       "      <td>4.9</td>\n",
       "      <td>4.2</td>\n",
       "      <td>0.9</td>\n",
       "      <td>2.4</td>\n",
       "      <td>1.4</td>\n",
       "      <td>0.5</td>\n",
       "      <td>24.0</td>\n",
       "      <td>Non-Diabetic</td>\n",
       "      <td>0</td>\n",
       "      <td>0</td>\n",
       "    </tr>\n",
       "    <tr>\n",
       "      <th>4</th>\n",
       "      <td>Male</td>\n",
       "      <td>33</td>\n",
       "      <td>7.1</td>\n",
       "      <td>46</td>\n",
       "      <td>4.9</td>\n",
       "      <td>4.9</td>\n",
       "      <td>1.0</td>\n",
       "      <td>0.8</td>\n",
       "      <td>2.0</td>\n",
       "      <td>0.4</td>\n",
       "      <td>21.0</td>\n",
       "      <td>Non-Diabetic</td>\n",
       "      <td>0</td>\n",
       "      <td>1</td>\n",
       "    </tr>\n",
       "    <tr>\n",
       "      <th>...</th>\n",
       "      <td>...</td>\n",
       "      <td>...</td>\n",
       "      <td>...</td>\n",
       "      <td>...</td>\n",
       "      <td>...</td>\n",
       "      <td>...</td>\n",
       "      <td>...</td>\n",
       "      <td>...</td>\n",
       "      <td>...</td>\n",
       "      <td>...</td>\n",
       "      <td>...</td>\n",
       "      <td>...</td>\n",
       "      <td>...</td>\n",
       "      <td>...</td>\n",
       "    </tr>\n",
       "    <tr>\n",
       "      <th>995</th>\n",
       "      <td>Male</td>\n",
       "      <td>71</td>\n",
       "      <td>11.0</td>\n",
       "      <td>97</td>\n",
       "      <td>7.0</td>\n",
       "      <td>7.5</td>\n",
       "      <td>1.7</td>\n",
       "      <td>1.2</td>\n",
       "      <td>1.8</td>\n",
       "      <td>0.6</td>\n",
       "      <td>30.0</td>\n",
       "      <td>Diabetic</td>\n",
       "      <td>2</td>\n",
       "      <td>1</td>\n",
       "    </tr>\n",
       "    <tr>\n",
       "      <th>996</th>\n",
       "      <td>Male</td>\n",
       "      <td>31</td>\n",
       "      <td>3.0</td>\n",
       "      <td>60</td>\n",
       "      <td>12.3</td>\n",
       "      <td>4.1</td>\n",
       "      <td>2.2</td>\n",
       "      <td>0.7</td>\n",
       "      <td>2.4</td>\n",
       "      <td>15.4</td>\n",
       "      <td>37.2</td>\n",
       "      <td>Diabetic</td>\n",
       "      <td>2</td>\n",
       "      <td>1</td>\n",
       "    </tr>\n",
       "    <tr>\n",
       "      <th>997</th>\n",
       "      <td>Male</td>\n",
       "      <td>30</td>\n",
       "      <td>7.1</td>\n",
       "      <td>81</td>\n",
       "      <td>6.7</td>\n",
       "      <td>4.1</td>\n",
       "      <td>1.1</td>\n",
       "      <td>1.2</td>\n",
       "      <td>2.4</td>\n",
       "      <td>8.1</td>\n",
       "      <td>27.4</td>\n",
       "      <td>Diabetic</td>\n",
       "      <td>2</td>\n",
       "      <td>1</td>\n",
       "    </tr>\n",
       "    <tr>\n",
       "      <th>998</th>\n",
       "      <td>Male</td>\n",
       "      <td>38</td>\n",
       "      <td>5.8</td>\n",
       "      <td>59</td>\n",
       "      <td>6.7</td>\n",
       "      <td>5.3</td>\n",
       "      <td>2.0</td>\n",
       "      <td>1.6</td>\n",
       "      <td>2.9</td>\n",
       "      <td>14.0</td>\n",
       "      <td>40.5</td>\n",
       "      <td>Diabetic</td>\n",
       "      <td>2</td>\n",
       "      <td>1</td>\n",
       "    </tr>\n",
       "    <tr>\n",
       "      <th>999</th>\n",
       "      <td>Male</td>\n",
       "      <td>54</td>\n",
       "      <td>5.0</td>\n",
       "      <td>67</td>\n",
       "      <td>6.9</td>\n",
       "      <td>3.8</td>\n",
       "      <td>1.7</td>\n",
       "      <td>1.1</td>\n",
       "      <td>3.0</td>\n",
       "      <td>0.7</td>\n",
       "      <td>33.0</td>\n",
       "      <td>Diabetic</td>\n",
       "      <td>2</td>\n",
       "      <td>1</td>\n",
       "    </tr>\n",
       "  </tbody>\n",
       "</table>\n",
       "<p>1000 rows × 14 columns</p>\n",
       "</div>"
      ],
      "text/plain": [
       "     Gender  AGE  Urea  Cr  HbA1c  Chol   TG  HDL  LDL  VLDL   BMI  \\\n",
       "0    Female   50   4.7  46    4.9   4.2  0.9  2.4  1.4   0.5  24.0   \n",
       "1      Male   26   4.5  62    4.9   3.7  1.4  1.1  2.1   0.6  23.0   \n",
       "2    Female   50   4.7  46    4.9   4.2  0.9  2.4  1.4   0.5  24.0   \n",
       "3    Female   50   4.7  46    4.9   4.2  0.9  2.4  1.4   0.5  24.0   \n",
       "4      Male   33   7.1  46    4.9   4.9  1.0  0.8  2.0   0.4  21.0   \n",
       "..      ...  ...   ...  ..    ...   ...  ...  ...  ...   ...   ...   \n",
       "995    Male   71  11.0  97    7.0   7.5  1.7  1.2  1.8   0.6  30.0   \n",
       "996    Male   31   3.0  60   12.3   4.1  2.2  0.7  2.4  15.4  37.2   \n",
       "997    Male   30   7.1  81    6.7   4.1  1.1  1.2  2.4   8.1  27.4   \n",
       "998    Male   38   5.8  59    6.7   5.3  2.0  1.6  2.9  14.0  40.5   \n",
       "999    Male   54   5.0  67    6.9   3.8  1.7  1.1  3.0   0.7  33.0   \n",
       "\n",
       "            CLASS  CLASS_Category  Gender_Category  \n",
       "0    Non-Diabetic               0                0  \n",
       "1    Non-Diabetic               0                1  \n",
       "2    Non-Diabetic               0                0  \n",
       "3    Non-Diabetic               0                0  \n",
       "4    Non-Diabetic               0                1  \n",
       "..            ...             ...              ...  \n",
       "995      Diabetic               2                1  \n",
       "996      Diabetic               2                1  \n",
       "997      Diabetic               2                1  \n",
       "998      Diabetic               2                1  \n",
       "999      Diabetic               2                1  \n",
       "\n",
       "[1000 rows x 14 columns]"
      ]
     },
     "execution_count": 23,
     "metadata": {},
     "output_type": "execute_result"
    }
   ],
   "source": [
    "data"
   ]
  },
  {
   "cell_type": "code",
   "execution_count": 24,
   "metadata": {
    "colab": {
     "base_uri": "https://localhost:8080/"
    },
    "executionInfo": {
     "elapsed": 538,
     "status": "ok",
     "timestamp": 1689152007197,
     "user": {
      "displayName": "Nastaran Ashoori",
      "userId": "00665327493872759992"
     },
     "user_tz": -120
    },
    "id": "LfnklkOlP_IK",
    "outputId": "6a44da25-0fd1-4c7f-a22e-769609f6611b"
   },
   "outputs": [
    {
     "name": "stdout",
     "output_type": "stream",
     "text": [
      "{'Non-Diabetic': 0, 'Pre-Diabetic': 1, 'Diabetic': 2}\n"
     ]
    }
   ],
   "source": [
    "# Printing the categories codes in 'CLASS' column and their original naming \n",
    "\n",
    "print({'Non-Diabetic': 0, 'Pre-Diabetic': 1, 'Diabetic': 2})"
   ]
  },
  {
   "cell_type": "code",
   "execution_count": 25,
   "metadata": {
    "colab": {
     "base_uri": "https://localhost:8080/"
    },
    "executionInfo": {
     "elapsed": 347,
     "status": "ok",
     "timestamp": 1689152009426,
     "user": {
      "displayName": "Nastaran Ashoori",
      "userId": "00665327493872759992"
     },
     "user_tz": -120
    },
    "id": "8FwKAOZ0QLoR",
    "outputId": "df9503ca-08f5-4609-b7d1-66a512981e63"
   },
   "outputs": [
    {
     "data": {
      "text/plain": [
       "{0: 'Female', 1: 'Male'}"
      ]
     },
     "execution_count": 25,
     "metadata": {},
     "output_type": "execute_result"
    }
   ],
   "source": [
    "# Mapping from the categories codes in 'Gender' column and their original naming \n",
    "\n",
    "dict(enumerate(data['Gender'].cat.categories))"
   ]
  },
  {
   "cell_type": "markdown",
   "metadata": {
    "id": "rOtsZXwCBFzB"
   },
   "source": [
    "\n",
    "---\n",
    "\n",
    "## **3 - Exploratory Data Analysis (EDA)**\n",
    "\n",
    "---\n",
    "\n"
   ]
  },
  {
   "cell_type": "code",
   "execution_count": 26,
   "metadata": {
    "colab": {
     "base_uri": "https://localhost:8080/",
     "height": 615
    },
    "executionInfo": {
     "elapsed": 1496,
     "status": "ok",
     "timestamp": 1689152015602,
     "user": {
      "displayName": "Nastaran Ashoori",
      "userId": "00665327493872759992"
     },
     "user_tz": -120
    },
    "id": "dXbdv-rCZc-O",
    "outputId": "098a9292-f7bd-482a-bed6-80ab157b19cf"
   },
   "outputs": [
    {
     "data": {
      "image/png": "[encoded data removed]",
      "text/plain": [
       "<Figure size 640x480 with 2 Axes>"
      ]
     },
     "metadata": {},
     "output_type": "display_data"
    }
   ],
   "source": [
    "# Pearson Correlation showing on a heatmap\n",
    "heatmap_data = data.corr(numeric_only = True).round(2)\n",
    "\n",
    "# Create a heatmap using seaborn\n",
    "sns.heatmap(heatmap_data, annot=True, cmap=\"YlGnBu\", linewidths=0.5)\n",
    "\n",
    "# Set plot title\n",
    "plt.title(\"Correlation Heatmap\")\n",
    "\n",
    "# Display the heatmap\n",
    "plt.show()"
   ]
  },
  {
   "cell_type": "code",
   "execution_count": 72,
   "metadata": {
    "colab": {
     "base_uri": "https://localhost:8080/"
    },
    "executionInfo": {
     "elapsed": 4606,
     "status": "ok",
     "timestamp": 1689007069550,
     "user": {
      "displayName": "Nastaran Ashoori",
      "userId": "00665327493872759992"
     },
     "user_tz": -120
    },
    "id": "BD-roikJl-7s",
    "outputId": "e1f94199-259a-4ede-fffb-b8f1c81c16cf"
   },
   "outputs": [
    {
     "name": "stdout",
     "output_type": "stream",
     "text": [
      "Requirement already satisfied: dash in c:\\users\\nasho\\anaconda3\\lib\\site-packages (2.10.2)\n",
      "Requirement already satisfied: dash-core-components==2.0.0 in c:\\users\\nasho\\anaconda3\\lib\\site-packages (from dash) (2.0.0)\n",
      "Requirement already satisfied: dash-html-components==2.0.0 in c:\\users\\nasho\\anaconda3\\lib\\site-packages (from dash) (2.0.0)\n",
      "Requirement already satisfied: dash-table==5.0.0 in c:\\users\\nasho\\anaconda3\\lib\\site-packages (from dash) (5.0.0)\n",
      "Requirement already satisfied: Werkzeug<2.3.0 in c:\\users\\nasho\\anaconda3\\lib\\site-packages (from dash) (2.0.3)\n",
      "Requirement already satisfied: Flask<2.3.0,>=1.0.4 in c:\\users\\nasho\\anaconda3\\lib\\site-packages (from dash) (1.1.2)\n",
      "Requirement already satisfied: plotly>=5.0.0 in c:\\users\\nasho\\anaconda3\\lib\\site-packages (from dash) (5.9.0)\n",
      "Requirement already satisfied: itsdangerous>=0.24 in c:\\users\\nasho\\anaconda3\\lib\\site-packages (from Flask<2.3.0,>=1.0.4->dash) (2.0.1)\n",
      "Requirement already satisfied: Jinja2>=2.10.1 in c:\\users\\nasho\\anaconda3\\lib\\site-packages (from Flask<2.3.0,>=1.0.4->dash) (2.11.3)\n",
      "Requirement already satisfied: click>=5.1 in c:\\users\\nasho\\anaconda3\\lib\\site-packages (from Flask<2.3.0,>=1.0.4->dash) (8.0.4)\n",
      "Requirement already satisfied: tenacity>=6.2.0 in c:\\users\\nasho\\anaconda3\\lib\\site-packages (from plotly>=5.0.0->dash) (8.0.1)\n",
      "Requirement already satisfied: colorama in c:\\users\\nasho\\anaconda3\\lib\\site-packages (from click>=5.1->Flask<2.3.0,>=1.0.4->dash) (0.4.5)\n",
      "Requirement already satisfied: MarkupSafe>=0.23 in c:\\users\\nasho\\anaconda3\\lib\\site-packages (from Jinja2>=2.10.1->Flask<2.3.0,>=1.0.4->dash) (2.0.1)\n"
     ]
    }
   ],
   "source": [
    "!pip install dash"
   ]
  },
  {
   "cell_type": "code",
   "execution_count": null,
   "metadata": {
    "colab": {
     "base_uri": "https://localhost:8080/",
     "height": 671
    },
    "executionInfo": {
     "elapsed": 458,
     "status": "ok",
     "timestamp": 1688891926398,
     "user": {
      "displayName": "Daniela V",
      "userId": "13459258029828664280"
     },
     "user_tz": -120
    },
    "id": "heLYTxpAbA5j",
    "outputId": "e4ef1b11-6214-4757-a30d-6386c9d4b070"
   },
   "outputs": [],
   "source": [
    "import dash\n",
    "from dash import dcc\n",
    "from dash import html\n",
    "import plotly.express as px\n",
    "\n",
    "# DataFrame = data\n",
    "available_columns = data.columns.tolist()\n",
    "\n",
    "# Initialize the Dash app\n",
    "app = dash.Dash(__name__)\n",
    "\n",
    "# Define the layout of the app\n",
    "app.layout = html.Div([\n",
    "    html.Label('X Variable'),\n",
    "    dcc.Dropdown(\n",
    "        id='x-dropdown',\n",
    "        options=[{'label': col, 'value': col} for col in available_columns],\n",
    "        value='X'\n",
    "    ),\n",
    "    html.Label('Y Variable'),\n",
    "    dcc.Dropdown(\n",
    "        id='y-dropdown',\n",
    "        options=[{'label': col, 'value': col} for col in available_columns],\n",
    "        value='Y'\n",
    "    ),\n",
    "    html.H4('Interactive scatter plot with Diabetes dataset'),\n",
    "    dcc.Graph(\n",
    "        id='scatter-plot'\n",
    "    ),\n",
    "    html.P(\"Filter by Gender:\"),\n",
    "    dcc.Dropdown(\n",
    "        id='gender-dropdown',\n",
    "        options=[{'label': col, 'value': col} for col in ['ALL' ,\"Female\", \"Male\"]],\n",
    "        value='Gender'\n",
    "    )\n",
    "])\n",
    "\n",
    "# Define the callback to update the scatter plot\n",
    "@app.callback(\n",
    "    dash.dependencies.Output('scatter-plot', 'figure'),\n",
    "    [\n",
    "        dash.dependencies.Input('x-dropdown', 'value'),\n",
    "        dash.dependencies.Input('y-dropdown', 'value'),\n",
    "        dash.dependencies.Input('gender-dropdown', 'value')\n",
    "    ]\n",
    ")\n",
    "def update_scatter_plot(x_var, y_var, gender):\n",
    "    if gender == 'Female' or gender == 'Male':\n",
    "        filtered_data = data[data['Gender'] == gender]\n",
    "    else:\n",
    "        filtered_data = data.copy()\n",
    "\n",
    "    fig = px.scatter(filtered_data, x=x_var, y=y_var, color='CLASS', symbol='CLASS')\n",
    "    return fig\n",
    "\n",
    "# Run the app\n",
    "if __name__ == '__main__':\n",
    "    app.run_server(debug=True)\n"
   ]
  },
  {
   "cell_type": "code",
   "execution_count": null,
   "metadata": {
    "colab": {
     "base_uri": "https://localhost:8080/",
     "height": 671
    },
    "executionInfo": {
     "elapsed": 537,
     "status": "ok",
     "timestamp": 1688891937072,
     "user": {
      "displayName": "Daniela V",
      "userId": "13459258029828664280"
     },
     "user_tz": -120
    },
    "id": "PxTuh9SXRWJB",
    "outputId": "8652308f-af37-48bd-bd2d-12d5731a7473"
   },
   "outputs": [
    {
     "data": {
      "application/javascript": [
       "(async (port, path, width, height, cache, element) => {\n",
       "    if (!google.colab.kernel.accessAllowed && !cache) {\n",
       "      return;\n",
       "    }\n",
       "    element.appendChild(document.createTextNode(''));\n",
       "    const url = await google.colab.kernel.proxyPort(port, {cache});\n",
       "    const iframe = document.createElement('iframe');\n",
       "    iframe.src = new URL(path, url).toString();\n",
       "    iframe.height = height;\n",
       "    iframe.width = width;\n",
       "    iframe.style.border = 0;\n",
       "    iframe.allow = [\n",
       "        'accelerometer',\n",
       "        'autoplay',\n",
       "        'camera',\n",
       "        'clipboard-read',\n",
       "        'clipboard-write',\n",
       "        'gyroscope',\n",
       "        'magnetometer',\n",
       "        'microphone',\n",
       "        'serial',\n",
       "        'usb',\n",
       "        'xr-spatial-tracking',\n",
       "    ].join('; ');\n",
       "    element.appendChild(iframe);\n",
       "  })(8050, \"/\", \"100%\", 650, false, window.element)"
      ],
      "text/plain": [
       "<IPython.core.display.Javascript object>"
      ]
     },
     "metadata": {},
     "output_type": "display_data"
    }
   ],
   "source": [
    "# DataFrame = data\n",
    "available_columns = data.columns.tolist()\n",
    "\n",
    "# Initialize the Dash app\n",
    "app = dash.Dash(__name__)\n",
    "\n",
    "# Define the layout of the app\n",
    "app.layout = html.Div([\n",
    "    html.Label('Column'),\n",
    "    dcc.Dropdown(\n",
    "        id='column-dropdown',\n",
    "        options=[{'label': col, 'value': col} for col in available_columns],\n",
    "        value='Column1'\n",
    "    ),\n",
    "    dcc.Graph(\n",
    "        id='histogram-plot'\n",
    "    )\n",
    "])\n",
    "\n",
    "# Define the callback to update the histogram plot\n",
    "@app.callback(\n",
    "    dash.dependencies.Output('histogram-plot', 'figure'),\n",
    "    dash.dependencies.Input('column-dropdown', 'value')\n",
    ")\n",
    "def update_histogram_plot(column):\n",
    "    fig = px.histogram(data, x=column, color='CLASS', pattern_shape='Gender', histnorm = \"percent\")\n",
    "\n",
    "    # Overlay both histograms\n",
    "    fig.update_layout(barmode='overlay')\n",
    "\n",
    "    # Reduce opacity to see both histograms\n",
    "    fig.update_traces(opacity=0.75)\n",
    "\n",
    "    return fig\n",
    "\n",
    "# Run the app\n",
    "if __name__ == '__main__':\n",
    "    app.run_server(debug=False)\n",
    "\n"
   ]
  },
  {
   "cell_type": "code",
   "execution_count": null,
   "metadata": {
    "colab": {
     "base_uri": "https://localhost:8080/",
     "height": 671
    },
    "executionInfo": {
     "elapsed": 821,
     "status": "ok",
     "timestamp": 1688665374554,
     "user": {
      "displayName": "Nastaran Ashoori",
      "userId": "00665327493872759992"
     },
     "user_tz": -120
    },
    "id": "OZXp2T2SoWhL",
    "outputId": "73f6220a-624e-44ca-b899-c49a1707f2bd"
   },
   "outputs": [],
   "source": [
    "import dash\n",
    "from dash import dcc\n",
    "from dash import html\n",
    "import seaborn as sns\n",
    "import plotly.express as px\n",
    "from dash.dependencies import Input, Output\n",
    "\n",
    "# DataFrame = data\n",
    "\n",
    "available_columns = data.columns.tolist()\n",
    "\n",
    "# Initialize the Dash app\n",
    "app = dash.Dash(__name__)\n",
    "\n",
    "# Define the layout of the app\n",
    "app.layout = html.Div(\n",
    "    style={'background-color': '#f2f2f2', 'padding': '20px'},\n",
    "    children=[\n",
    "        html.H1('Catplot Dashboard', style={'text-align': 'center', 'margin-bottom': '30px'}),\n",
    "        html.Div(\n",
    "            style={'background-color': '#ffffff', 'padding': '20px', 'border-radius': '10px'},\n",
    "            children=[\n",
    "                html.Label('Column', style={'font-weight': 'bold'}),\n",
    "                dcc.Dropdown(\n",
    "                    id='column-dropdown',\n",
    "                    options=[{'label': col, 'value': col} for col in available_columns],\n",
    "                    value=available_columns[0],  # Set the default value to the first column\n",
    "                    style={'width': '250px', 'margin-bottom': '10px'}\n",
    "                ),\n",
    "                dcc.Graph(\n",
    "                    id='cat-plot',\n",
    "                    config={'displayModeBar': False}  # Hide the plotly mode bar\n",
    "                )\n",
    "            ]\n",
    "        )\n",
    "    ]\n",
    ")\n",
    "\n",
    "\n",
    "# Define the callback to update the cat plot\n",
    "@app.callback(\n",
    "    Output('cat-plot', 'figure'),\n",
    "    Input('column-dropdown', 'value')\n",
    ")\n",
    "def update_cat_plot(column):\n",
    "    # Create the catplot using seaborn\n",
    "    fig = px.violin(data, x=column, box=True)\n",
    "\n",
    "    # Set the labels and title\n",
    "    fig.update_layout(\n",
    "        xaxis_title=column,\n",
    "        yaxis_title='Frequency',\n",
    "        title=f'Catplot Showing Distribution of {column}'\n",
    "    )\n",
    "\n",
    "    return fig\n",
    "\n",
    "# Run the app\n",
    "if __name__ == '__main__':\n",
    "    app.run_server(debug=False)\n"
   ]
  },
  {
   "cell_type": "code",
   "execution_count": null,
   "metadata": {
    "colab": {
     "base_uri": "https://localhost:8080/",
     "height": 591
    },
    "executionInfo": {
     "elapsed": 1939,
     "status": "ok",
     "timestamp": 1688588496665,
     "user": {
      "displayName": "Nastaran Ashoori",
      "userId": "00665327493872759992"
     },
     "user_tz": -120
    },
    "id": "lucHc8ZBXAdg",
    "outputId": "30ff2ea9-1878-486e-ad7e-d5813a985c2a"
   },
   "outputs": [],
   "source": [
    "import seaborn as sns\n",
    "import matplotlib.pyplot as plt\n",
    "\n",
    "%matplotlib inline\n",
    "\n",
    "BMI_column = data['BMI']\n",
    "BMI_statistics = BMI_column.describe()\n",
    "print(BMI_statistics)\n",
    "\n",
    "# Create a categorical plot using catplot with violin plot style\n",
    "g = sns.catplot(data=data, x='BMI', kind='violin', palette='muted', height=4, aspect=2)\n",
    "\n",
    "# Set the labels and title\n",
    "plt.xlabel('BMI')\n",
    "plt.ylabel('Frequency')\n",
    "plt.title('Distribution of BMI')\n",
    "\n",
    "# Add a legend for the BMI ranges\n",
    "plt.axvspan(0, 18.5, color='blue', alpha=0.25, label='Underweight')\n",
    "plt.axvspan(18.5, 24.9, color='green', alpha=0.25, label='Healthy Weight')\n",
    "plt.axvspan(25.0, 29.9, color='orange', alpha=0.25, label='Overweight')\n",
    "plt.axvspan(30.0, 55, color='red', alpha=0.25, label='Obese')\n",
    "plt.legend()\n",
    "\n",
    "plt.show()\n"
   ]
  },
  {
   "cell_type": "code",
   "execution_count": null,
   "metadata": {
    "colab": {
     "base_uri": "https://localhost:8080/",
     "height": 591
    },
    "executionInfo": {
     "elapsed": 1252,
     "status": "ok",
     "timestamp": 1688588507688,
     "user": {
      "displayName": "Nastaran Ashoori",
      "userId": "00665327493872759992"
     },
     "user_tz": -120
    },
    "id": "EKOD6R2AooXh",
    "outputId": "8cfd0e96-9dd3-4131-9b45-2590d2f78031"
   },
   "outputs": [],
   "source": [
    "import seaborn as sns\n",
    "import matplotlib.pyplot as plt\n",
    "\n",
    "%matplotlib inline\n",
    "\n",
    "HbA1c_column = data['HbA1c']\n",
    "HbA1c_statistics = HbA1c_column.describe()\n",
    "print(HbA1c_statistics)\n",
    "\n",
    "# Create a categorical plot using catplot with violin plot style\n",
    "g = sns.catplot(data=data, x='HbA1c', kind='violin', palette='muted', height=4, aspect=2)\n",
    "\n",
    "# Set the labels and title\n",
    "plt.xlabel('HbA1c')\n",
    "plt.ylabel('Frequency')\n",
    "plt.title('Distribution of HbA1c')\n",
    "\n",
    "# Add a legend for the BMI ranges\n",
    "plt.axvspan(0, 5.6, color='green', alpha=0.25, label='Normal Range')\n",
    "plt.axvspan(5.6, 6.4, color='orange', alpha=0.25, label='Prediabetes')\n",
    "plt.axvspan(6.4, 18, color='red', alpha=0.25, label='Diabetes')\n",
    "plt.legend()\n",
    "\n",
    "plt.show()\n"
   ]
  },
  {
   "cell_type": "markdown",
   "metadata": {
    "id": "FN9gjNWjuDpc"
   },
   "source": [
    "\n",
    "\n",
    "---\n",
    "\n",
    "## **4 - Machine Learning (ML)**\n",
    "\n",
    "---\n",
    "\n"
   ]
  },
  {
   "cell_type": "markdown",
   "metadata": {
    "id": "n8BEDlTNuqX5"
   },
   "source": [
    "italicised text\n",
    "\n",
    "---\n",
    "\n",
    "\n",
    "###***4.1 - Logistic Regression - Classification***\n",
    "---\n"
   ]
  },
  {
   "cell_type": "markdown",
   "metadata": {
    "id": "qPd0BbAVq2dy"
   },
   "source": [
    "### Split the dataset into 80/20 training/testing split with a random state of 50"
   ]
  },
  {
   "cell_type": "code",
   "execution_count": null,
   "metadata": {
    "colab": {
     "base_uri": "https://localhost:8080/",
     "height": 206
    },
    "executionInfo": {
     "elapsed": 235,
     "status": "ok",
     "timestamp": 1689012062833,
     "user": {
      "displayName": "Nastaran Ashoori",
      "userId": "00665327493872759992"
     },
     "user_tz": -120
    },
    "id": "uNnK9YxerKrI",
    "outputId": "853dce74-5fe4-480d-a0bb-8589c2a39afe"
   },
   "outputs": [
    {
     "data": {
      "text/html": [
       "\n",
       "  <div id=\"df-f0abedb0-e28d-4c7a-8748-6b7c34162a92\">\n",
       "    <div class=\"colab-df-container\">\n",
       "      <div>\n",
       "<style scoped>\n",
       "    .dataframe tbody tr th:only-of-type {\n",
       "        vertical-align: middle;\n",
       "    }\n",
       "\n",
       "    .dataframe tbody tr th {\n",
       "        vertical-align: top;\n",
       "    }\n",
       "\n",
       "    .dataframe thead th {\n",
       "        text-align: right;\n",
       "    }\n",
       "</style>\n",
       "<table border=\"1\" class=\"dataframe\">\n",
       "  <thead>\n",
       "    <tr style=\"text-align: right;\">\n",
       "      <th></th>\n",
       "      <th>Gender</th>\n",
       "      <th>AGE</th>\n",
       "      <th>Urea</th>\n",
       "      <th>Cr</th>\n",
       "      <th>HbA1c</th>\n",
       "      <th>Chol</th>\n",
       "      <th>TG</th>\n",
       "      <th>HDL</th>\n",
       "      <th>LDL</th>\n",
       "      <th>VLDL</th>\n",
       "      <th>BMI</th>\n",
       "      <th>CLASS</th>\n",
       "      <th>CLASS_Category</th>\n",
       "      <th>Gender_Category</th>\n",
       "    </tr>\n",
       "  </thead>\n",
       "  <tbody>\n",
       "    <tr>\n",
       "      <th>0</th>\n",
       "      <td>Female</td>\n",
       "      <td>50</td>\n",
       "      <td>4.7</td>\n",
       "      <td>46</td>\n",
       "      <td>4.9</td>\n",
       "      <td>4.2</td>\n",
       "      <td>0.9</td>\n",
       "      <td>2.4</td>\n",
       "      <td>1.4</td>\n",
       "      <td>0.5</td>\n",
       "      <td>24.0</td>\n",
       "      <td>Non-Diabetic</td>\n",
       "      <td>0</td>\n",
       "      <td>0</td>\n",
       "    </tr>\n",
       "    <tr>\n",
       "      <th>1</th>\n",
       "      <td>Male</td>\n",
       "      <td>26</td>\n",
       "      <td>4.5</td>\n",
       "      <td>62</td>\n",
       "      <td>4.9</td>\n",
       "      <td>3.7</td>\n",
       "      <td>1.4</td>\n",
       "      <td>1.1</td>\n",
       "      <td>2.1</td>\n",
       "      <td>0.6</td>\n",
       "      <td>23.0</td>\n",
       "      <td>Non-Diabetic</td>\n",
       "      <td>0</td>\n",
       "      <td>1</td>\n",
       "    </tr>\n",
       "    <tr>\n",
       "      <th>2</th>\n",
       "      <td>Female</td>\n",
       "      <td>50</td>\n",
       "      <td>4.7</td>\n",
       "      <td>46</td>\n",
       "      <td>4.9</td>\n",
       "      <td>4.2</td>\n",
       "      <td>0.9</td>\n",
       "      <td>2.4</td>\n",
       "      <td>1.4</td>\n",
       "      <td>0.5</td>\n",
       "      <td>24.0</td>\n",
       "      <td>Non-Diabetic</td>\n",
       "      <td>0</td>\n",
       "      <td>0</td>\n",
       "    </tr>\n",
       "    <tr>\n",
       "      <th>3</th>\n",
       "      <td>Female</td>\n",
       "      <td>50</td>\n",
       "      <td>4.7</td>\n",
       "      <td>46</td>\n",
       "      <td>4.9</td>\n",
       "      <td>4.2</td>\n",
       "      <td>0.9</td>\n",
       "      <td>2.4</td>\n",
       "      <td>1.4</td>\n",
       "      <td>0.5</td>\n",
       "      <td>24.0</td>\n",
       "      <td>Non-Diabetic</td>\n",
       "      <td>0</td>\n",
       "      <td>0</td>\n",
       "    </tr>\n",
       "    <tr>\n",
       "      <th>4</th>\n",
       "      <td>Male</td>\n",
       "      <td>33</td>\n",
       "      <td>7.1</td>\n",
       "      <td>46</td>\n",
       "      <td>4.9</td>\n",
       "      <td>4.9</td>\n",
       "      <td>1.0</td>\n",
       "      <td>0.8</td>\n",
       "      <td>2.0</td>\n",
       "      <td>0.4</td>\n",
       "      <td>21.0</td>\n",
       "      <td>Non-Diabetic</td>\n",
       "      <td>0</td>\n",
       "      <td>1</td>\n",
       "    </tr>\n",
       "  </tbody>\n",
       "</table>\n",
       "</div>\n",
       "      <button class=\"colab-df-convert\" onclick=\"convertToInteractive('df-f0abedb0-e28d-4c7a-8748-6b7c34162a92')\"\n",
       "              title=\"Convert this dataframe to an interactive table.\"\n",
       "              style=\"display:none;\">\n",
       "        \n",
       "  <svg xmlns=\"http://www.w3.org/2000/svg\" height=\"24px\"viewBox=\"0 0 24 24\"\n",
       "       width=\"24px\">\n",
       "    <path d=\"M0 0h24v24H0V0z\" fill=\"none\"/>\n",
       "    <path d=\"M18.56 5.44l.94 2.06.94-2.06 2.06-.94-2.06-.94-.94-2.06-.94 2.06-2.06.94zm-11 1L8.5 8.5l.94-2.06 2.06-.94-2.06-.94L8.5 2.5l-.94 2.06-2.06.94zm10 10l.94 2.06.94-2.06 2.06-.94-2.06-.94-.94-2.06-.94 2.06-2.06.94z\"/><path d=\"M17.41 7.96l-1.37-1.37c-.4-.4-.92-.59-1.43-.59-.52 0-1.04.2-1.43.59L10.3 9.45l-7.72 7.72c-.78.78-.78 2.05 0 2.83L4 21.41c.39.39.9.59 1.41.59.51 0 1.02-.2 1.41-.59l7.78-7.78 2.81-2.81c.8-.78.8-2.07 0-2.86zM5.41 20L4 18.59l7.72-7.72 1.47 1.35L5.41 20z\"/>\n",
       "  </svg>\n",
       "      </button>\n",
       "      \n",
       "  <style>\n",
       "    .colab-df-container {\n",
       "      display:flex;\n",
       "      flex-wrap:wrap;\n",
       "      gap: 12px;\n",
       "    }\n",
       "\n",
       "    .colab-df-convert {\n",
       "      background-color: #E8F0FE;\n",
       "      border: none;\n",
       "      border-radius: 50%;\n",
       "      cursor: pointer;\n",
       "      display: none;\n",
       "      fill: #1967D2;\n",
       "      height: 32px;\n",
       "      padding: 0 0 0 0;\n",
       "      width: 32px;\n",
       "    }\n",
       "\n",
       "    .colab-df-convert:hover {\n",
       "      background-color: #E2EBFA;\n",
       "      box-shadow: 0px 1px 2px rgba(60, 64, 67, 0.3), 0px 1px 3px 1px rgba(60, 64, 67, 0.15);\n",
       "      fill: #174EA6;\n",
       "    }\n",
       "\n",
       "    [theme=dark] .colab-df-convert {\n",
       "      background-color: #3B4455;\n",
       "      fill: #D2E3FC;\n",
       "    }\n",
       "\n",
       "    [theme=dark] .colab-df-convert:hover {\n",
       "      background-color: #434B5C;\n",
       "      box-shadow: 0px 1px 3px 1px rgba(0, 0, 0, 0.15);\n",
       "      filter: drop-shadow(0px 1px 2px rgba(0, 0, 0, 0.3));\n",
       "      fill: #FFFFFF;\n",
       "    }\n",
       "  </style>\n",
       "\n",
       "      <script>\n",
       "        const buttonEl =\n",
       "          document.querySelector('#df-f0abedb0-e28d-4c7a-8748-6b7c34162a92 button.colab-df-convert');\n",
       "        buttonEl.style.display =\n",
       "          google.colab.kernel.accessAllowed ? 'block' : 'none';\n",
       "\n",
       "        async function convertToInteractive(key) {\n",
       "          const element = document.querySelector('#df-f0abedb0-e28d-4c7a-8748-6b7c34162a92');\n",
       "          const dataTable =\n",
       "            await google.colab.kernel.invokeFunction('convertToInteractive',\n",
       "                                                     [key], {});\n",
       "          if (!dataTable) return;\n",
       "\n",
       "          const docLinkHtml = 'Like what you see? Visit the ' +\n",
       "            '<a target=\"_blank\" href=https://colab.research.google.com/notebooks/data_table.ipynb>data table notebook</a>'\n",
       "            + ' to learn more about interactive tables.';\n",
       "          element.innerHTML = '';\n",
       "          dataTable['output_type'] = 'display_data';\n",
       "          await google.colab.output.renderOutput(dataTable, element);\n",
       "          const docLink = document.createElement('div');\n",
       "          docLink.innerHTML = docLinkHtml;\n",
       "          element.appendChild(docLink);\n",
       "        }\n",
       "      </script>\n",
       "    </div>\n",
       "  </div>\n",
       "  "
      ],
      "text/plain": [
       "   Gender  AGE  Urea  Cr  HbA1c  Chol   TG  HDL  LDL  VLDL   BMI  \\\n",
       "0  Female   50   4.7  46    4.9   4.2  0.9  2.4  1.4   0.5  24.0   \n",
       "1    Male   26   4.5  62    4.9   3.7  1.4  1.1  2.1   0.6  23.0   \n",
       "2  Female   50   4.7  46    4.9   4.2  0.9  2.4  1.4   0.5  24.0   \n",
       "3  Female   50   4.7  46    4.9   4.2  0.9  2.4  1.4   0.5  24.0   \n",
       "4    Male   33   7.1  46    4.9   4.9  1.0  0.8  2.0   0.4  21.0   \n",
       "\n",
       "          CLASS  CLASS_Category  Gender_Category  \n",
       "0  Non-Diabetic               0                0  \n",
       "1  Non-Diabetic               0                1  \n",
       "2  Non-Diabetic               0                0  \n",
       "3  Non-Diabetic               0                0  \n",
       "4  Non-Diabetic               0                1  "
      ]
     },
     "execution_count": 278,
     "metadata": {},
     "output_type": "execute_result"
    }
   ],
   "source": [
    "data.head()"
   ]
  },
  {
   "cell_type": "code",
   "execution_count": null,
   "metadata": {
    "colab": {
     "base_uri": "https://localhost:8080/"
    },
    "executionInfo": {
     "elapsed": 225,
     "status": "ok",
     "timestamp": 1689012079327,
     "user": {
      "displayName": "Nastaran Ashoori",
      "userId": "00665327493872759992"
     },
     "user_tz": -120
    },
    "id": "__FpEMNIueJT",
    "outputId": "ba990b2b-a293-40c2-a1cd-8f0bc5fb14e0"
   },
   "outputs": [
    {
     "name": "stdout",
     "output_type": "stream",
     "text": [
      "   AGE  Urea  Cr  HbA1c  Chol   TG  HDL  LDL  VLDL   BMI  Gender_Category\n",
      "0   50   4.7  46    4.9   4.2  0.9  2.4  1.4   0.5  24.0                0\n",
      "1   26   4.5  62    4.9   3.7  1.4  1.1  2.1   0.6  23.0                1\n",
      "2   50   4.7  46    4.9   4.2  0.9  2.4  1.4   0.5  24.0                0\n",
      "3   50   4.7  46    4.9   4.2  0.9  2.4  1.4   0.5  24.0                0\n",
      "4   33   7.1  46    4.9   4.9  1.0  0.8  2.0   0.4  21.0                1\n",
      "\n",
      "0    0\n",
      "1    0\n",
      "2    0\n",
      "3    0\n",
      "4    0\n",
      "Name: CLASS_Category, dtype: int64\n"
     ]
    }
   ],
   "source": [
    "# X and y sets\n",
    "\n",
    "X = data.drop(['CLASS_Category', 'CLASS', 'Gender'], axis= 1)\n",
    "y = data['CLASS_Category']\n",
    "\n",
    "print(X.head())\n",
    "print()\n",
    "print(y.head())"
   ]
  },
  {
   "cell_type": "code",
   "execution_count": null,
   "metadata": {
    "id": "ucq7sVR2q8_Y"
   },
   "outputs": [],
   "source": [
    "# training/testing split\n",
    "\n",
    "from sklearn.model_selection import train_test_split\n",
    "\n",
    "X_train, X_test, y_train, y_test = train_test_split(X, y, test_size=0.2, random_state = 50)"
   ]
  },
  {
   "cell_type": "code",
   "execution_count": null,
   "metadata": {
    "colab": {
     "base_uri": "https://localhost:8080/"
    },
    "executionInfo": {
     "elapsed": 8,
     "status": "ok",
     "timestamp": 1689012125545,
     "user": {
      "displayName": "Nastaran Ashoori",
      "userId": "00665327493872759992"
     },
     "user_tz": -120
    },
    "id": "QCEzF8fPsevZ",
    "outputId": "fce8be60-e976-49f6-9de9-eeb277422fea"
   },
   "outputs": [
    {
     "name": "stdout",
     "output_type": "stream",
     "text": [
      "(1000, 14)\n",
      "(800, 11)\n",
      "(200, 11)\n",
      "(800,)\n",
      "(200,)\n"
     ]
    }
   ],
   "source": [
    "print(data.shape)\n",
    "\n",
    "print(X_train.shape)\n",
    "print(X_test.shape)\n",
    "\n",
    "print(y_train.shape)\n",
    "print(y_test.shape)\n"
   ]
  },
  {
   "cell_type": "code",
   "execution_count": null,
   "metadata": {
    "colab": {
     "base_uri": "https://localhost:8080/",
     "height": 74
    },
    "executionInfo": {
     "elapsed": 1350,
     "status": "ok",
     "timestamp": 1689012145576,
     "user": {
      "displayName": "Nastaran Ashoori",
      "userId": "00665327493872759992"
     },
     "user_tz": -120
    },
    "id": "BSqwhL2-sn6U",
    "outputId": "4c09e8bd-8247-4fe4-857c-deb6213236f3"
   },
   "outputs": [
    {
     "data": {
      "text/html": [
       "<style>#sk-container-id-17 {color: black;background-color: white;}#sk-container-id-17 pre{padding: 0;}#sk-container-id-17 div.sk-toggleable {background-color: white;}#sk-container-id-17 label.sk-toggleable__label {cursor: pointer;display: block;width: 100%;margin-bottom: 0;padding: 0.3em;box-sizing: border-box;text-align: center;}#sk-container-id-17 label.sk-toggleable__label-arrow:before {content: \"▸\";float: left;margin-right: 0.25em;color: #696969;}#sk-container-id-17 label.sk-toggleable__label-arrow:hover:before {color: black;}#sk-container-id-17 div.sk-estimator:hover label.sk-toggleable__label-arrow:before {color: black;}#sk-container-id-17 div.sk-toggleable__content {max-height: 0;max-width: 0;overflow: hidden;text-align: left;background-color: #f0f8ff;}#sk-container-id-17 div.sk-toggleable__content pre {margin: 0.2em;color: black;border-radius: 0.25em;background-color: #f0f8ff;}#sk-container-id-17 input.sk-toggleable__control:checked~div.sk-toggleable__content {max-height: 200px;max-width: 100%;overflow: auto;}#sk-container-id-17 input.sk-toggleable__control:checked~label.sk-toggleable__label-arrow:before {content: \"▾\";}#sk-container-id-17 div.sk-estimator input.sk-toggleable__control:checked~label.sk-toggleable__label {background-color: #d4ebff;}#sk-container-id-17 div.sk-label input.sk-toggleable__control:checked~label.sk-toggleable__label {background-color: #d4ebff;}#sk-container-id-17 input.sk-hidden--visually {border: 0;clip: rect(1px 1px 1px 1px);clip: rect(1px, 1px, 1px, 1px);height: 1px;margin: -1px;overflow: hidden;padding: 0;position: absolute;width: 1px;}#sk-container-id-17 div.sk-estimator {font-family: monospace;background-color: #f0f8ff;border: 1px dotted black;border-radius: 0.25em;box-sizing: border-box;margin-bottom: 0.5em;}#sk-container-id-17 div.sk-estimator:hover {background-color: #d4ebff;}#sk-container-id-17 div.sk-parallel-item::after {content: \"\";width: 100%;border-bottom: 1px solid gray;flex-grow: 1;}#sk-container-id-17 div.sk-label:hover label.sk-toggleable__label {background-color: #d4ebff;}#sk-container-id-17 div.sk-serial::before {content: \"\";position: absolute;border-left: 1px solid gray;box-sizing: border-box;top: 0;bottom: 0;left: 50%;z-index: 0;}#sk-container-id-17 div.sk-serial {display: flex;flex-direction: column;align-items: center;background-color: white;padding-right: 0.2em;padding-left: 0.2em;position: relative;}#sk-container-id-17 div.sk-item {position: relative;z-index: 1;}#sk-container-id-17 div.sk-parallel {display: flex;align-items: stretch;justify-content: center;background-color: white;position: relative;}#sk-container-id-17 div.sk-item::before, #sk-container-id-17 div.sk-parallel-item::before {content: \"\";position: absolute;border-left: 1px solid gray;box-sizing: border-box;top: 0;bottom: 0;left: 50%;z-index: -1;}#sk-container-id-17 div.sk-parallel-item {display: flex;flex-direction: column;z-index: 1;position: relative;background-color: white;}#sk-container-id-17 div.sk-parallel-item:first-child::after {align-self: flex-end;width: 50%;}#sk-container-id-17 div.sk-parallel-item:last-child::after {align-self: flex-start;width: 50%;}#sk-container-id-17 div.sk-parallel-item:only-child::after {width: 0;}#sk-container-id-17 div.sk-dashed-wrapped {border: 1px dashed gray;margin: 0 0.4em 0.5em 0.4em;box-sizing: border-box;padding-bottom: 0.4em;background-color: white;}#sk-container-id-17 div.sk-label label {font-family: monospace;font-weight: bold;display: inline-block;line-height: 1.2em;}#sk-container-id-17 div.sk-label-container {text-align: center;}#sk-container-id-17 div.sk-container {/* jupyter's `normalize.less` sets `[hidden] { display: none; }` but bootstrap.min.css set `[hidden] { display: none !important; }` so we also need the `!important` here to be able to override the default hidden behavior on the sphinx rendered scikit-learn.org. See: https://github.com/scikit-learn/scikit-learn/issues/21755 */display: inline-block !important;position: relative;}#sk-container-id-17 div.sk-text-repr-fallback {display: none;}</style><div id=\"sk-container-id-17\" class=\"sk-top-container\"><div class=\"sk-text-repr-fallback\"><pre>LogisticRegression(max_iter=2600)</pre><b>In a Jupyter environment, please rerun this cell to show the HTML representation or trust the notebook. <br />On GitHub, the HTML representation is unable to render, please try loading this page with nbviewer.org.</b></div><div class=\"sk-container\" hidden><div class=\"sk-item\"><div class=\"sk-estimator sk-toggleable\"><input class=\"sk-toggleable__control sk-hidden--visually\" id=\"sk-estimator-id-17\" type=\"checkbox\" checked><label for=\"sk-estimator-id-17\" class=\"sk-toggleable__label sk-toggleable__label-arrow\">LogisticRegression</label><div class=\"sk-toggleable__content\"><pre>LogisticRegression(max_iter=2600)</pre></div></div></div></div></div>"
      ],
      "text/plain": [
       "LogisticRegression(max_iter=2600)"
      ]
     },
     "execution_count": 286,
     "metadata": {},
     "output_type": "execute_result"
    }
   ],
   "source": [
    "# Train the model and then predict on the test set\n",
    "\n",
    "from sklearn.linear_model import LogisticRegression\n",
    "\n",
    "lr = LogisticRegression(max_iter=2600)\n",
    "lr.fit(X_train, y_train)"
   ]
  },
  {
   "cell_type": "code",
   "execution_count": null,
   "metadata": {
    "id": "1PQsBYWfs6zf"
   },
   "outputs": [],
   "source": [
    "y_pred = lr.predict(X_test)"
   ]
  },
  {
   "cell_type": "code",
   "execution_count": null,
   "metadata": {
    "colab": {
     "base_uri": "https://localhost:8080/"
    },
    "executionInfo": {
     "elapsed": 226,
     "status": "ok",
     "timestamp": 1689013464142,
     "user": {
      "displayName": "Nastaran Ashoori",
      "userId": "00665327493872759992"
     },
     "user_tz": -120
    },
    "id": "28lv53FItW7p",
    "outputId": "95487bdb-a4df-41ce-ba79-0d9c7a23e1d3"
   },
   "outputs": [
    {
     "name": "stdout",
     "output_type": "stream",
     "text": [
      "Accuracy score is:  0.935\n",
      "Precision score is:  0.6750793650793652\n",
      "Recall score is:  0.6405628581058308\n",
      "f1 score is:  0.6563376318419546\n"
     ]
    },
    {
     "name": "stderr",
     "output_type": "stream",
     "text": [
      "/usr/local/lib/python3.10/dist-packages/sklearn/metrics/_classification.py:1396: UserWarning: Note that pos_label (set to 'positive') is ignored when average != 'binary' (got 'macro'). You may use labels=[pos_label] to specify a single positive class.\n",
      "  warnings.warn(\n"
     ]
    }
   ],
   "source": [
    "# What is the accuracy of your predictions?\n",
    "\n",
    "from sklearn.metrics import accuracy_score, precision_score, recall_score, f1_score\n",
    "\n",
    "print(\"Accuracy score is: \", accuracy_score(y_test, y_pred))\n",
    "print(\"Precision score is: \", precision_score(y_test, y_pred, average='macro'))\n",
    "print(\"Recall score is: \", recall_score(y_test, y_pred, average='macro'))\n",
    "print(\"f1 score is: \", f1_score(y_test, y_pred, average='macro'))"
   ]
  },
  {
   "cell_type": "markdown",
   "metadata": {
    "id": "Z8RY1FHp-esM"
   },
   "source": [
    "---\n",
    "\n",
    "### ***4.2 - Normalization of the data - MinMaxScaler***\n",
    "\n",
    "---\n"
   ]
  },
  {
   "cell_type": "code",
   "execution_count": null,
   "metadata": {
    "colab": {
     "base_uri": "https://localhost:8080/",
     "height": 423
    },
    "executionInfo": {
     "elapsed": 322,
     "status": "ok",
     "timestamp": 1689015014605,
     "user": {
      "displayName": "Nastaran Ashoori",
      "userId": "00665327493872759992"
     },
     "user_tz": -120
    },
    "id": "UMGQCjxHI8SY",
    "outputId": "72d0d756-485f-4b61-b02b-b90a7108cf45"
   },
   "outputs": [
    {
     "data": {
      "text/html": [
       "\n",
       "  <div id=\"df-0b9bd60f-47ef-4463-9270-b18624a95d70\">\n",
       "    <div class=\"colab-df-container\">\n",
       "      <div>\n",
       "<style scoped>\n",
       "    .dataframe tbody tr th:only-of-type {\n",
       "        vertical-align: middle;\n",
       "    }\n",
       "\n",
       "    .dataframe tbody tr th {\n",
       "        vertical-align: top;\n",
       "    }\n",
       "\n",
       "    .dataframe thead th {\n",
       "        text-align: right;\n",
       "    }\n",
       "</style>\n",
       "<table border=\"1\" class=\"dataframe\">\n",
       "  <thead>\n",
       "    <tr style=\"text-align: right;\">\n",
       "      <th></th>\n",
       "      <th>Gender</th>\n",
       "      <th>AGE</th>\n",
       "      <th>Urea</th>\n",
       "      <th>Cr</th>\n",
       "      <th>HbA1c</th>\n",
       "      <th>Chol</th>\n",
       "      <th>TG</th>\n",
       "      <th>HDL</th>\n",
       "      <th>LDL</th>\n",
       "      <th>VLDL</th>\n",
       "      <th>BMI</th>\n",
       "      <th>CLASS</th>\n",
       "      <th>CLASS_Category</th>\n",
       "      <th>Gender_Category</th>\n",
       "    </tr>\n",
       "  </thead>\n",
       "  <tbody>\n",
       "    <tr>\n",
       "      <th>0</th>\n",
       "      <td>Female</td>\n",
       "      <td>50</td>\n",
       "      <td>4.7</td>\n",
       "      <td>46</td>\n",
       "      <td>4.9</td>\n",
       "      <td>4.2</td>\n",
       "      <td>0.9</td>\n",
       "      <td>2.4</td>\n",
       "      <td>1.4</td>\n",
       "      <td>0.5</td>\n",
       "      <td>24.0</td>\n",
       "      <td>Non-Diabetic</td>\n",
       "      <td>0</td>\n",
       "      <td>0</td>\n",
       "    </tr>\n",
       "    <tr>\n",
       "      <th>1</th>\n",
       "      <td>Male</td>\n",
       "      <td>26</td>\n",
       "      <td>4.5</td>\n",
       "      <td>62</td>\n",
       "      <td>4.9</td>\n",
       "      <td>3.7</td>\n",
       "      <td>1.4</td>\n",
       "      <td>1.1</td>\n",
       "      <td>2.1</td>\n",
       "      <td>0.6</td>\n",
       "      <td>23.0</td>\n",
       "      <td>Non-Diabetic</td>\n",
       "      <td>0</td>\n",
       "      <td>1</td>\n",
       "    </tr>\n",
       "    <tr>\n",
       "      <th>2</th>\n",
       "      <td>Female</td>\n",
       "      <td>50</td>\n",
       "      <td>4.7</td>\n",
       "      <td>46</td>\n",
       "      <td>4.9</td>\n",
       "      <td>4.2</td>\n",
       "      <td>0.9</td>\n",
       "      <td>2.4</td>\n",
       "      <td>1.4</td>\n",
       "      <td>0.5</td>\n",
       "      <td>24.0</td>\n",
       "      <td>Non-Diabetic</td>\n",
       "      <td>0</td>\n",
       "      <td>0</td>\n",
       "    </tr>\n",
       "    <tr>\n",
       "      <th>3</th>\n",
       "      <td>Female</td>\n",
       "      <td>50</td>\n",
       "      <td>4.7</td>\n",
       "      <td>46</td>\n",
       "      <td>4.9</td>\n",
       "      <td>4.2</td>\n",
       "      <td>0.9</td>\n",
       "      <td>2.4</td>\n",
       "      <td>1.4</td>\n",
       "      <td>0.5</td>\n",
       "      <td>24.0</td>\n",
       "      <td>Non-Diabetic</td>\n",
       "      <td>0</td>\n",
       "      <td>0</td>\n",
       "    </tr>\n",
       "    <tr>\n",
       "      <th>4</th>\n",
       "      <td>Male</td>\n",
       "      <td>33</td>\n",
       "      <td>7.1</td>\n",
       "      <td>46</td>\n",
       "      <td>4.9</td>\n",
       "      <td>4.9</td>\n",
       "      <td>1.0</td>\n",
       "      <td>0.8</td>\n",
       "      <td>2.0</td>\n",
       "      <td>0.4</td>\n",
       "      <td>21.0</td>\n",
       "      <td>Non-Diabetic</td>\n",
       "      <td>0</td>\n",
       "      <td>1</td>\n",
       "    </tr>\n",
       "    <tr>\n",
       "      <th>...</th>\n",
       "      <td>...</td>\n",
       "      <td>...</td>\n",
       "      <td>...</td>\n",
       "      <td>...</td>\n",
       "      <td>...</td>\n",
       "      <td>...</td>\n",
       "      <td>...</td>\n",
       "      <td>...</td>\n",
       "      <td>...</td>\n",
       "      <td>...</td>\n",
       "      <td>...</td>\n",
       "      <td>...</td>\n",
       "      <td>...</td>\n",
       "      <td>...</td>\n",
       "    </tr>\n",
       "    <tr>\n",
       "      <th>995</th>\n",
       "      <td>Male</td>\n",
       "      <td>71</td>\n",
       "      <td>11.0</td>\n",
       "      <td>97</td>\n",
       "      <td>7.0</td>\n",
       "      <td>7.5</td>\n",
       "      <td>1.7</td>\n",
       "      <td>1.2</td>\n",
       "      <td>1.8</td>\n",
       "      <td>0.6</td>\n",
       "      <td>30.0</td>\n",
       "      <td>Diabetic</td>\n",
       "      <td>2</td>\n",
       "      <td>1</td>\n",
       "    </tr>\n",
       "    <tr>\n",
       "      <th>996</th>\n",
       "      <td>Male</td>\n",
       "      <td>31</td>\n",
       "      <td>3.0</td>\n",
       "      <td>60</td>\n",
       "      <td>12.3</td>\n",
       "      <td>4.1</td>\n",
       "      <td>2.2</td>\n",
       "      <td>0.7</td>\n",
       "      <td>2.4</td>\n",
       "      <td>15.4</td>\n",
       "      <td>37.2</td>\n",
       "      <td>Diabetic</td>\n",
       "      <td>2</td>\n",
       "      <td>1</td>\n",
       "    </tr>\n",
       "    <tr>\n",
       "      <th>997</th>\n",
       "      <td>Male</td>\n",
       "      <td>30</td>\n",
       "      <td>7.1</td>\n",
       "      <td>81</td>\n",
       "      <td>6.7</td>\n",
       "      <td>4.1</td>\n",
       "      <td>1.1</td>\n",
       "      <td>1.2</td>\n",
       "      <td>2.4</td>\n",
       "      <td>8.1</td>\n",
       "      <td>27.4</td>\n",
       "      <td>Diabetic</td>\n",
       "      <td>2</td>\n",
       "      <td>1</td>\n",
       "    </tr>\n",
       "    <tr>\n",
       "      <th>998</th>\n",
       "      <td>Male</td>\n",
       "      <td>38</td>\n",
       "      <td>5.8</td>\n",
       "      <td>59</td>\n",
       "      <td>6.7</td>\n",
       "      <td>5.3</td>\n",
       "      <td>2.0</td>\n",
       "      <td>1.6</td>\n",
       "      <td>2.9</td>\n",
       "      <td>14.0</td>\n",
       "      <td>40.5</td>\n",
       "      <td>Diabetic</td>\n",
       "      <td>2</td>\n",
       "      <td>1</td>\n",
       "    </tr>\n",
       "    <tr>\n",
       "      <th>999</th>\n",
       "      <td>Male</td>\n",
       "      <td>54</td>\n",
       "      <td>5.0</td>\n",
       "      <td>67</td>\n",
       "      <td>6.9</td>\n",
       "      <td>3.8</td>\n",
       "      <td>1.7</td>\n",
       "      <td>1.1</td>\n",
       "      <td>3.0</td>\n",
       "      <td>0.7</td>\n",
       "      <td>33.0</td>\n",
       "      <td>Diabetic</td>\n",
       "      <td>2</td>\n",
       "      <td>1</td>\n",
       "    </tr>\n",
       "  </tbody>\n",
       "</table>\n",
       "<p>1000 rows × 14 columns</p>\n",
       "</div>\n",
       "      <button class=\"colab-df-convert\" onclick=\"convertToInteractive('df-0b9bd60f-47ef-4463-9270-b18624a95d70')\"\n",
       "              title=\"Convert this dataframe to an interactive table.\"\n",
       "              style=\"display:none;\">\n",
       "        \n",
       "  <svg xmlns=\"http://www.w3.org/2000/svg\" height=\"24px\"viewBox=\"0 0 24 24\"\n",
       "       width=\"24px\">\n",
       "    <path d=\"M0 0h24v24H0V0z\" fill=\"none\"/>\n",
       "    <path d=\"M18.56 5.44l.94 2.06.94-2.06 2.06-.94-2.06-.94-.94-2.06-.94 2.06-2.06.94zm-11 1L8.5 8.5l.94-2.06 2.06-.94-2.06-.94L8.5 2.5l-.94 2.06-2.06.94zm10 10l.94 2.06.94-2.06 2.06-.94-2.06-.94-.94-2.06-.94 2.06-2.06.94z\"/><path d=\"M17.41 7.96l-1.37-1.37c-.4-.4-.92-.59-1.43-.59-.52 0-1.04.2-1.43.59L10.3 9.45l-7.72 7.72c-.78.78-.78 2.05 0 2.83L4 21.41c.39.39.9.59 1.41.59.51 0 1.02-.2 1.41-.59l7.78-7.78 2.81-2.81c.8-.78.8-2.07 0-2.86zM5.41 20L4 18.59l7.72-7.72 1.47 1.35L5.41 20z\"/>\n",
       "  </svg>\n",
       "      </button>\n",
       "      \n",
       "  <style>\n",
       "    .colab-df-container {\n",
       "      display:flex;\n",
       "      flex-wrap:wrap;\n",
       "      gap: 12px;\n",
       "    }\n",
       "\n",
       "    .colab-df-convert {\n",
       "      background-color: #E8F0FE;\n",
       "      border: none;\n",
       "      border-radius: 50%;\n",
       "      cursor: pointer;\n",
       "      display: none;\n",
       "      fill: #1967D2;\n",
       "      height: 32px;\n",
       "      padding: 0 0 0 0;\n",
       "      width: 32px;\n",
       "    }\n",
       "\n",
       "    .colab-df-convert:hover {\n",
       "      background-color: #E2EBFA;\n",
       "      box-shadow: 0px 1px 2px rgba(60, 64, 67, 0.3), 0px 1px 3px 1px rgba(60, 64, 67, 0.15);\n",
       "      fill: #174EA6;\n",
       "    }\n",
       "\n",
       "    [theme=dark] .colab-df-convert {\n",
       "      background-color: #3B4455;\n",
       "      fill: #D2E3FC;\n",
       "    }\n",
       "\n",
       "    [theme=dark] .colab-df-convert:hover {\n",
       "      background-color: #434B5C;\n",
       "      box-shadow: 0px 1px 3px 1px rgba(0, 0, 0, 0.15);\n",
       "      filter: drop-shadow(0px 1px 2px rgba(0, 0, 0, 0.3));\n",
       "      fill: #FFFFFF;\n",
       "    }\n",
       "  </style>\n",
       "\n",
       "      <script>\n",
       "        const buttonEl =\n",
       "          document.querySelector('#df-0b9bd60f-47ef-4463-9270-b18624a95d70 button.colab-df-convert');\n",
       "        buttonEl.style.display =\n",
       "          google.colab.kernel.accessAllowed ? 'block' : 'none';\n",
       "\n",
       "        async function convertToInteractive(key) {\n",
       "          const element = document.querySelector('#df-0b9bd60f-47ef-4463-9270-b18624a95d70');\n",
       "          const dataTable =\n",
       "            await google.colab.kernel.invokeFunction('convertToInteractive',\n",
       "                                                     [key], {});\n",
       "          if (!dataTable) return;\n",
       "\n",
       "          const docLinkHtml = 'Like what you see? Visit the ' +\n",
       "            '<a target=\"_blank\" href=https://colab.research.google.com/notebooks/data_table.ipynb>data table notebook</a>'\n",
       "            + ' to learn more about interactive tables.';\n",
       "          element.innerHTML = '';\n",
       "          dataTable['output_type'] = 'display_data';\n",
       "          await google.colab.output.renderOutput(dataTable, element);\n",
       "          const docLink = document.createElement('div');\n",
       "          docLink.innerHTML = docLinkHtml;\n",
       "          element.appendChild(docLink);\n",
       "        }\n",
       "      </script>\n",
       "    </div>\n",
       "  </div>\n",
       "  "
      ],
      "text/plain": [
       "     Gender  AGE  Urea  Cr  HbA1c  Chol   TG  HDL  LDL  VLDL   BMI  \\\n",
       "0    Female   50   4.7  46    4.9   4.2  0.9  2.4  1.4   0.5  24.0   \n",
       "1      Male   26   4.5  62    4.9   3.7  1.4  1.1  2.1   0.6  23.0   \n",
       "2    Female   50   4.7  46    4.9   4.2  0.9  2.4  1.4   0.5  24.0   \n",
       "3    Female   50   4.7  46    4.9   4.2  0.9  2.4  1.4   0.5  24.0   \n",
       "4      Male   33   7.1  46    4.9   4.9  1.0  0.8  2.0   0.4  21.0   \n",
       "..      ...  ...   ...  ..    ...   ...  ...  ...  ...   ...   ...   \n",
       "995    Male   71  11.0  97    7.0   7.5  1.7  1.2  1.8   0.6  30.0   \n",
       "996    Male   31   3.0  60   12.3   4.1  2.2  0.7  2.4  15.4  37.2   \n",
       "997    Male   30   7.1  81    6.7   4.1  1.1  1.2  2.4   8.1  27.4   \n",
       "998    Male   38   5.8  59    6.7   5.3  2.0  1.6  2.9  14.0  40.5   \n",
       "999    Male   54   5.0  67    6.9   3.8  1.7  1.1  3.0   0.7  33.0   \n",
       "\n",
       "            CLASS  CLASS_Category  Gender_Category  \n",
       "0    Non-Diabetic               0                0  \n",
       "1    Non-Diabetic               0                1  \n",
       "2    Non-Diabetic               0                0  \n",
       "3    Non-Diabetic               0                0  \n",
       "4    Non-Diabetic               0                1  \n",
       "..            ...             ...              ...  \n",
       "995      Diabetic               2                1  \n",
       "996      Diabetic               2                1  \n",
       "997      Diabetic               2                1  \n",
       "998      Diabetic               2                1  \n",
       "999      Diabetic               2                1  \n",
       "\n",
       "[1000 rows x 14 columns]"
      ]
     },
     "execution_count": 315,
     "metadata": {},
     "output_type": "execute_result"
    }
   ],
   "source": [
    "data"
   ]
  },
  {
   "cell_type": "code",
   "execution_count": null,
   "metadata": {
    "colab": {
     "base_uri": "https://localhost:8080/",
     "height": 423
    },
    "executionInfo": {
     "elapsed": 290,
     "status": "ok",
     "timestamp": 1689016210320,
     "user": {
      "displayName": "Nastaran Ashoori",
      "userId": "00665327493872759992"
     },
     "user_tz": -120
    },
    "id": "jdCcoMNcFAIv",
    "outputId": "79e997a3-d6bf-43ac-dafa-eed7c31216c9"
   },
   "outputs": [
    {
     "data": {
      "text/html": [
       "\n",
       "  <div id=\"df-d8635fca-dc3a-4605-a183-193a38fce45f\">\n",
       "    <div class=\"colab-df-container\">\n",
       "      <div>\n",
       "<style scoped>\n",
       "    .dataframe tbody tr th:only-of-type {\n",
       "        vertical-align: middle;\n",
       "    }\n",
       "\n",
       "    .dataframe tbody tr th {\n",
       "        vertical-align: top;\n",
       "    }\n",
       "\n",
       "    .dataframe thead th {\n",
       "        text-align: right;\n",
       "    }\n",
       "</style>\n",
       "<table border=\"1\" class=\"dataframe\">\n",
       "  <thead>\n",
       "    <tr style=\"text-align: right;\">\n",
       "      <th></th>\n",
       "      <th>Urea</th>\n",
       "      <th>Cr</th>\n",
       "      <th>HbA1c</th>\n",
       "      <th>Chol</th>\n",
       "      <th>TG</th>\n",
       "      <th>HDL</th>\n",
       "      <th>LDL</th>\n",
       "      <th>VLDL</th>\n",
       "      <th>AGE</th>\n",
       "      <th>BMI</th>\n",
       "      <th>Gender_Category</th>\n",
       "    </tr>\n",
       "  </thead>\n",
       "  <tbody>\n",
       "    <tr>\n",
       "      <th>0</th>\n",
       "      <td>0.109375</td>\n",
       "      <td>0.050378</td>\n",
       "      <td>0.264901</td>\n",
       "      <td>0.407767</td>\n",
       "      <td>0.044444</td>\n",
       "      <td>0.226804</td>\n",
       "      <td>0.114583</td>\n",
       "      <td>0.011461</td>\n",
       "      <td>50</td>\n",
       "      <td>24.0</td>\n",
       "      <td>0</td>\n",
       "    </tr>\n",
       "    <tr>\n",
       "      <th>1</th>\n",
       "      <td>0.104167</td>\n",
       "      <td>0.070529</td>\n",
       "      <td>0.264901</td>\n",
       "      <td>0.359223</td>\n",
       "      <td>0.081481</td>\n",
       "      <td>0.092784</td>\n",
       "      <td>0.187500</td>\n",
       "      <td>0.014327</td>\n",
       "      <td>26</td>\n",
       "      <td>23.0</td>\n",
       "      <td>1</td>\n",
       "    </tr>\n",
       "    <tr>\n",
       "      <th>2</th>\n",
       "      <td>0.109375</td>\n",
       "      <td>0.050378</td>\n",
       "      <td>0.264901</td>\n",
       "      <td>0.407767</td>\n",
       "      <td>0.044444</td>\n",
       "      <td>0.226804</td>\n",
       "      <td>0.114583</td>\n",
       "      <td>0.011461</td>\n",
       "      <td>50</td>\n",
       "      <td>24.0</td>\n",
       "      <td>0</td>\n",
       "    </tr>\n",
       "    <tr>\n",
       "      <th>3</th>\n",
       "      <td>0.109375</td>\n",
       "      <td>0.050378</td>\n",
       "      <td>0.264901</td>\n",
       "      <td>0.407767</td>\n",
       "      <td>0.044444</td>\n",
       "      <td>0.226804</td>\n",
       "      <td>0.114583</td>\n",
       "      <td>0.011461</td>\n",
       "      <td>50</td>\n",
       "      <td>24.0</td>\n",
       "      <td>0</td>\n",
       "    </tr>\n",
       "    <tr>\n",
       "      <th>4</th>\n",
       "      <td>0.171875</td>\n",
       "      <td>0.050378</td>\n",
       "      <td>0.264901</td>\n",
       "      <td>0.475728</td>\n",
       "      <td>0.051852</td>\n",
       "      <td>0.061856</td>\n",
       "      <td>0.177083</td>\n",
       "      <td>0.008596</td>\n",
       "      <td>33</td>\n",
       "      <td>21.0</td>\n",
       "      <td>1</td>\n",
       "    </tr>\n",
       "    <tr>\n",
       "      <th>...</th>\n",
       "      <td>...</td>\n",
       "      <td>...</td>\n",
       "      <td>...</td>\n",
       "      <td>...</td>\n",
       "      <td>...</td>\n",
       "      <td>...</td>\n",
       "      <td>...</td>\n",
       "      <td>...</td>\n",
       "      <td>...</td>\n",
       "      <td>...</td>\n",
       "      <td>...</td>\n",
       "    </tr>\n",
       "    <tr>\n",
       "      <th>995</th>\n",
       "      <td>0.273438</td>\n",
       "      <td>0.114610</td>\n",
       "      <td>0.403974</td>\n",
       "      <td>0.728155</td>\n",
       "      <td>0.103704</td>\n",
       "      <td>0.103093</td>\n",
       "      <td>0.156250</td>\n",
       "      <td>0.014327</td>\n",
       "      <td>71</td>\n",
       "      <td>30.0</td>\n",
       "      <td>1</td>\n",
       "    </tr>\n",
       "    <tr>\n",
       "      <th>996</th>\n",
       "      <td>0.065104</td>\n",
       "      <td>0.068010</td>\n",
       "      <td>0.754967</td>\n",
       "      <td>0.398058</td>\n",
       "      <td>0.140741</td>\n",
       "      <td>0.051546</td>\n",
       "      <td>0.218750</td>\n",
       "      <td>0.438395</td>\n",
       "      <td>31</td>\n",
       "      <td>37.2</td>\n",
       "      <td>1</td>\n",
       "    </tr>\n",
       "    <tr>\n",
       "      <th>997</th>\n",
       "      <td>0.171875</td>\n",
       "      <td>0.094458</td>\n",
       "      <td>0.384106</td>\n",
       "      <td>0.398058</td>\n",
       "      <td>0.059259</td>\n",
       "      <td>0.103093</td>\n",
       "      <td>0.218750</td>\n",
       "      <td>0.229226</td>\n",
       "      <td>30</td>\n",
       "      <td>27.4</td>\n",
       "      <td>1</td>\n",
       "    </tr>\n",
       "    <tr>\n",
       "      <th>998</th>\n",
       "      <td>0.138021</td>\n",
       "      <td>0.066751</td>\n",
       "      <td>0.384106</td>\n",
       "      <td>0.514563</td>\n",
       "      <td>0.125926</td>\n",
       "      <td>0.144330</td>\n",
       "      <td>0.270833</td>\n",
       "      <td>0.398281</td>\n",
       "      <td>38</td>\n",
       "      <td>40.5</td>\n",
       "      <td>1</td>\n",
       "    </tr>\n",
       "    <tr>\n",
       "      <th>999</th>\n",
       "      <td>0.117188</td>\n",
       "      <td>0.076826</td>\n",
       "      <td>0.397351</td>\n",
       "      <td>0.368932</td>\n",
       "      <td>0.103704</td>\n",
       "      <td>0.092784</td>\n",
       "      <td>0.281250</td>\n",
       "      <td>0.017192</td>\n",
       "      <td>54</td>\n",
       "      <td>33.0</td>\n",
       "      <td>1</td>\n",
       "    </tr>\n",
       "  </tbody>\n",
       "</table>\n",
       "<p>1000 rows × 11 columns</p>\n",
       "</div>\n",
       "      <button class=\"colab-df-convert\" onclick=\"convertToInteractive('df-d8635fca-dc3a-4605-a183-193a38fce45f')\"\n",
       "              title=\"Convert this dataframe to an interactive table.\"\n",
       "              style=\"display:none;\">\n",
       "        \n",
       "  <svg xmlns=\"http://www.w3.org/2000/svg\" height=\"24px\"viewBox=\"0 0 24 24\"\n",
       "       width=\"24px\">\n",
       "    <path d=\"M0 0h24v24H0V0z\" fill=\"none\"/>\n",
       "    <path d=\"M18.56 5.44l.94 2.06.94-2.06 2.06-.94-2.06-.94-.94-2.06-.94 2.06-2.06.94zm-11 1L8.5 8.5l.94-2.06 2.06-.94-2.06-.94L8.5 2.5l-.94 2.06-2.06.94zm10 10l.94 2.06.94-2.06 2.06-.94-2.06-.94-.94-2.06-.94 2.06-2.06.94z\"/><path d=\"M17.41 7.96l-1.37-1.37c-.4-.4-.92-.59-1.43-.59-.52 0-1.04.2-1.43.59L10.3 9.45l-7.72 7.72c-.78.78-.78 2.05 0 2.83L4 21.41c.39.39.9.59 1.41.59.51 0 1.02-.2 1.41-.59l7.78-7.78 2.81-2.81c.8-.78.8-2.07 0-2.86zM5.41 20L4 18.59l7.72-7.72 1.47 1.35L5.41 20z\"/>\n",
       "  </svg>\n",
       "      </button>\n",
       "      \n",
       "  <style>\n",
       "    .colab-df-container {\n",
       "      display:flex;\n",
       "      flex-wrap:wrap;\n",
       "      gap: 12px;\n",
       "    }\n",
       "\n",
       "    .colab-df-convert {\n",
       "      background-color: #E8F0FE;\n",
       "      border: none;\n",
       "      border-radius: 50%;\n",
       "      cursor: pointer;\n",
       "      display: none;\n",
       "      fill: #1967D2;\n",
       "      height: 32px;\n",
       "      padding: 0 0 0 0;\n",
       "      width: 32px;\n",
       "    }\n",
       "\n",
       "    .colab-df-convert:hover {\n",
       "      background-color: #E2EBFA;\n",
       "      box-shadow: 0px 1px 2px rgba(60, 64, 67, 0.3), 0px 1px 3px 1px rgba(60, 64, 67, 0.15);\n",
       "      fill: #174EA6;\n",
       "    }\n",
       "\n",
       "    [theme=dark] .colab-df-convert {\n",
       "      background-color: #3B4455;\n",
       "      fill: #D2E3FC;\n",
       "    }\n",
       "\n",
       "    [theme=dark] .colab-df-convert:hover {\n",
       "      background-color: #434B5C;\n",
       "      box-shadow: 0px 1px 3px 1px rgba(0, 0, 0, 0.15);\n",
       "      filter: drop-shadow(0px 1px 2px rgba(0, 0, 0, 0.3));\n",
       "      fill: #FFFFFF;\n",
       "    }\n",
       "  </style>\n",
       "\n",
       "      <script>\n",
       "        const buttonEl =\n",
       "          document.querySelector('#df-d8635fca-dc3a-4605-a183-193a38fce45f button.colab-df-convert');\n",
       "        buttonEl.style.display =\n",
       "          google.colab.kernel.accessAllowed ? 'block' : 'none';\n",
       "\n",
       "        async function convertToInteractive(key) {\n",
       "          const element = document.querySelector('#df-d8635fca-dc3a-4605-a183-193a38fce45f');\n",
       "          const dataTable =\n",
       "            await google.colab.kernel.invokeFunction('convertToInteractive',\n",
       "                                                     [key], {});\n",
       "          if (!dataTable) return;\n",
       "\n",
       "          const docLinkHtml = 'Like what you see? Visit the ' +\n",
       "            '<a target=\"_blank\" href=https://colab.research.google.com/notebooks/data_table.ipynb>data table notebook</a>'\n",
       "            + ' to learn more about interactive tables.';\n",
       "          element.innerHTML = '';\n",
       "          dataTable['output_type'] = 'display_data';\n",
       "          await google.colab.output.renderOutput(dataTable, element);\n",
       "          const docLink = document.createElement('div');\n",
       "          docLink.innerHTML = docLinkHtml;\n",
       "          element.appendChild(docLink);\n",
       "        }\n",
       "      </script>\n",
       "    </div>\n",
       "  </div>\n",
       "  "
      ],
      "text/plain": [
       "         Urea        Cr     HbA1c      Chol        TG       HDL       LDL  \\\n",
       "0    0.109375  0.050378  0.264901  0.407767  0.044444  0.226804  0.114583   \n",
       "1    0.104167  0.070529  0.264901  0.359223  0.081481  0.092784  0.187500   \n",
       "2    0.109375  0.050378  0.264901  0.407767  0.044444  0.226804  0.114583   \n",
       "3    0.109375  0.050378  0.264901  0.407767  0.044444  0.226804  0.114583   \n",
       "4    0.171875  0.050378  0.264901  0.475728  0.051852  0.061856  0.177083   \n",
       "..        ...       ...       ...       ...       ...       ...       ...   \n",
       "995  0.273438  0.114610  0.403974  0.728155  0.103704  0.103093  0.156250   \n",
       "996  0.065104  0.068010  0.754967  0.398058  0.140741  0.051546  0.218750   \n",
       "997  0.171875  0.094458  0.384106  0.398058  0.059259  0.103093  0.218750   \n",
       "998  0.138021  0.066751  0.384106  0.514563  0.125926  0.144330  0.270833   \n",
       "999  0.117188  0.076826  0.397351  0.368932  0.103704  0.092784  0.281250   \n",
       "\n",
       "         VLDL  AGE   BMI  Gender_Category  \n",
       "0    0.011461   50  24.0                0  \n",
       "1    0.014327   26  23.0                1  \n",
       "2    0.011461   50  24.0                0  \n",
       "3    0.011461   50  24.0                0  \n",
       "4    0.008596   33  21.0                1  \n",
       "..        ...  ...   ...              ...  \n",
       "995  0.014327   71  30.0                1  \n",
       "996  0.438395   31  37.2                1  \n",
       "997  0.229226   30  27.4                1  \n",
       "998  0.398281   38  40.5                1  \n",
       "999  0.017192   54  33.0                1  \n",
       "\n",
       "[1000 rows x 11 columns]"
      ]
     },
     "execution_count": 327,
     "metadata": {},
     "output_type": "execute_result"
    }
   ],
   "source": [
    "from sklearn.preprocessing import MinMaxScaler\n",
    "\n",
    "# create a scaler object\n",
    "scaler = MinMaxScaler()\n",
    "# fit and transform the data\n",
    "X_norm = pd.DataFrame(scaler.fit_transform(X[['Urea',\t'Cr',\t'HbA1c',\t'Chol',\t'TG',\t'HDL',\t'LDL',\t'VLDL']]), columns=X[['Urea',\t'Cr',\t'HbA1c',\t'Chol',\t'TG',\t'HDL',\t'LDL',\t'VLDL']].columns)\n",
    "\n",
    "X_norm = pd.concat([X_norm, X[['AGE', 'BMI', 'Gender_Category']]], axis=1)\n",
    "X_norm"
   ]
  },
  {
   "cell_type": "code",
   "execution_count": null,
   "metadata": {
    "colab": {
     "base_uri": "https://localhost:8080/",
     "height": 74
    },
    "executionInfo": {
     "elapsed": 487,
     "status": "ok",
     "timestamp": 1689016300367,
     "user": {
      "displayName": "Nastaran Ashoori",
      "userId": "00665327493872759992"
     },
     "user_tz": -120
    },
    "id": "ltMY09L1GEJf",
    "outputId": "04d76539-20a4-4d30-b181-70aa8c771861"
   },
   "outputs": [
    {
     "data": {
      "text/html": [
       "<style>#sk-container-id-26 {color: black;background-color: white;}#sk-container-id-26 pre{padding: 0;}#sk-container-id-26 div.sk-toggleable {background-color: white;}#sk-container-id-26 label.sk-toggleable__label {cursor: pointer;display: block;width: 100%;margin-bottom: 0;padding: 0.3em;box-sizing: border-box;text-align: center;}#sk-container-id-26 label.sk-toggleable__label-arrow:before {content: \"▸\";float: left;margin-right: 0.25em;color: #696969;}#sk-container-id-26 label.sk-toggleable__label-arrow:hover:before {color: black;}#sk-container-id-26 div.sk-estimator:hover label.sk-toggleable__label-arrow:before {color: black;}#sk-container-id-26 div.sk-toggleable__content {max-height: 0;max-width: 0;overflow: hidden;text-align: left;background-color: #f0f8ff;}#sk-container-id-26 div.sk-toggleable__content pre {margin: 0.2em;color: black;border-radius: 0.25em;background-color: #f0f8ff;}#sk-container-id-26 input.sk-toggleable__control:checked~div.sk-toggleable__content {max-height: 200px;max-width: 100%;overflow: auto;}#sk-container-id-26 input.sk-toggleable__control:checked~label.sk-toggleable__label-arrow:before {content: \"▾\";}#sk-container-id-26 div.sk-estimator input.sk-toggleable__control:checked~label.sk-toggleable__label {background-color: #d4ebff;}#sk-container-id-26 div.sk-label input.sk-toggleable__control:checked~label.sk-toggleable__label {background-color: #d4ebff;}#sk-container-id-26 input.sk-hidden--visually {border: 0;clip: rect(1px 1px 1px 1px);clip: rect(1px, 1px, 1px, 1px);height: 1px;margin: -1px;overflow: hidden;padding: 0;position: absolute;width: 1px;}#sk-container-id-26 div.sk-estimator {font-family: monospace;background-color: #f0f8ff;border: 1px dotted black;border-radius: 0.25em;box-sizing: border-box;margin-bottom: 0.5em;}#sk-container-id-26 div.sk-estimator:hover {background-color: #d4ebff;}#sk-container-id-26 div.sk-parallel-item::after {content: \"\";width: 100%;border-bottom: 1px solid gray;flex-grow: 1;}#sk-container-id-26 div.sk-label:hover label.sk-toggleable__label {background-color: #d4ebff;}#sk-container-id-26 div.sk-serial::before {content: \"\";position: absolute;border-left: 1px solid gray;box-sizing: border-box;top: 0;bottom: 0;left: 50%;z-index: 0;}#sk-container-id-26 div.sk-serial {display: flex;flex-direction: column;align-items: center;background-color: white;padding-right: 0.2em;padding-left: 0.2em;position: relative;}#sk-container-id-26 div.sk-item {position: relative;z-index: 1;}#sk-container-id-26 div.sk-parallel {display: flex;align-items: stretch;justify-content: center;background-color: white;position: relative;}#sk-container-id-26 div.sk-item::before, #sk-container-id-26 div.sk-parallel-item::before {content: \"\";position: absolute;border-left: 1px solid gray;box-sizing: border-box;top: 0;bottom: 0;left: 50%;z-index: -1;}#sk-container-id-26 div.sk-parallel-item {display: flex;flex-direction: column;z-index: 1;position: relative;background-color: white;}#sk-container-id-26 div.sk-parallel-item:first-child::after {align-self: flex-end;width: 50%;}#sk-container-id-26 div.sk-parallel-item:last-child::after {align-self: flex-start;width: 50%;}#sk-container-id-26 div.sk-parallel-item:only-child::after {width: 0;}#sk-container-id-26 div.sk-dashed-wrapped {border: 1px dashed gray;margin: 0 0.4em 0.5em 0.4em;box-sizing: border-box;padding-bottom: 0.4em;background-color: white;}#sk-container-id-26 div.sk-label label {font-family: monospace;font-weight: bold;display: inline-block;line-height: 1.2em;}#sk-container-id-26 div.sk-label-container {text-align: center;}#sk-container-id-26 div.sk-container {/* jupyter's `normalize.less` sets `[hidden] { display: none; }` but bootstrap.min.css set `[hidden] { display: none !important; }` so we also need the `!important` here to be able to override the default hidden behavior on the sphinx rendered scikit-learn.org. See: https://github.com/scikit-learn/scikit-learn/issues/21755 */display: inline-block !important;position: relative;}#sk-container-id-26 div.sk-text-repr-fallback {display: none;}</style><div id=\"sk-container-id-26\" class=\"sk-top-container\"><div class=\"sk-text-repr-fallback\"><pre>LogisticRegression(max_iter=500)</pre><b>In a Jupyter environment, please rerun this cell to show the HTML representation or trust the notebook. <br />On GitHub, the HTML representation is unable to render, please try loading this page with nbviewer.org.</b></div><div class=\"sk-container\" hidden><div class=\"sk-item\"><div class=\"sk-estimator sk-toggleable\"><input class=\"sk-toggleable__control sk-hidden--visually\" id=\"sk-estimator-id-26\" type=\"checkbox\" checked><label for=\"sk-estimator-id-26\" class=\"sk-toggleable__label sk-toggleable__label-arrow\">LogisticRegression</label><div class=\"sk-toggleable__content\"><pre>LogisticRegression(max_iter=500)</pre></div></div></div></div></div>"
      ],
      "text/plain": [
       "LogisticRegression(max_iter=500)"
      ]
     },
     "execution_count": 333,
     "metadata": {},
     "output_type": "execute_result"
    }
   ],
   "source": [
    "# training/testing split\n",
    "\n",
    "from sklearn.model_selection import train_test_split\n",
    "X_norm_train, X_norm_test, y_norm_train, y_norm_test = train_test_split(X_norm, y, test_size=0.2, random_state=30)\n",
    "\n",
    "# Train the model and then predict on the test set\n",
    "from sklearn.linear_model import LogisticRegression\n",
    "\n",
    "lr_norm = LogisticRegression(max_iter = 500)\n",
    "lr_norm.fit(X_norm_train, y_norm_train)"
   ]
  },
  {
   "cell_type": "code",
   "execution_count": null,
   "metadata": {
    "id": "1vK9a0NzGxBg"
   },
   "outputs": [],
   "source": [
    "y_norm_pred = lr_norm.predict(X_norm_test)"
   ]
  },
  {
   "cell_type": "code",
   "execution_count": null,
   "metadata": {
    "colab": {
     "base_uri": "https://localhost:8080/"
    },
    "executionInfo": {
     "elapsed": 247,
     "status": "ok",
     "timestamp": 1689016309122,
     "user": {
      "displayName": "Nastaran Ashoori",
      "userId": "00665327493872759992"
     },
     "user_tz": -120
    },
    "id": "L8G2VwG4GuIt",
    "outputId": "646f97b2-73d7-4a7d-ae68-8a474896cf05"
   },
   "outputs": [
    {
     "name": "stdout",
     "output_type": "stream",
     "text": [
      "Accuracy score is:  0.905\n",
      "Precision score is:  0.6650645994832041\n",
      "Recall score is:  0.6385742462665539\n",
      "f1 score is:  0.6288671590214368\n"
     ]
    }
   ],
   "source": [
    "# What is the accuracy of your predictions?\n",
    "\n",
    "from sklearn.metrics import accuracy_score, precision_score, recall_score, f1_score\n",
    "\n",
    "print(\"Accuracy score is: \", accuracy_score(y_norm_test, y_norm_pred))\n",
    "print(\"Precision score is: \", precision_score(y_norm_test, y_norm_pred, average='macro'))\n",
    "print(\"Recall score is: \", recall_score(y_norm_test, y_norm_pred, average='macro'))\n",
    "print(\"f1 score is: \", f1_score(y_norm_test, y_norm_pred, average='macro'))"
   ]
  },
  {
   "cell_type": "markdown",
   "metadata": {
    "id": "CmqzwZ4C0oH5"
   },
   "source": [
    "---\n",
    "\n",
    "\n",
    "###***4.3 - XGboost***\n",
    "---\n"
   ]
  },
  {
   "cell_type": "code",
   "execution_count": null,
   "metadata": {
    "id": "BHXZVl7QCIpT"
   },
   "outputs": [],
   "source": [
    "from xgboost import XGBClassifier\n",
    "\n",
    "# read data\n",
    "from sklearn.datasets import load_iris\n",
    "from sklearn.model_selection import train_test_split\n",
    "\n",
    "X_XG = data.drop(['CLASS_Category', 'CLASS', 'Gender'], axis= 1)\n",
    "y_XG = data['CLASS_Category']"
   ]
  },
  {
   "cell_type": "code",
   "execution_count": null,
   "metadata": {
    "colab": {
     "base_uri": "https://localhost:8080/",
     "height": 423
    },
    "executionInfo": {
     "elapsed": 237,
     "status": "ok",
     "timestamp": 1689015441722,
     "user": {
      "displayName": "Nastaran Ashoori",
      "userId": "00665327493872759992"
     },
     "user_tz": -120
    },
    "id": "KVZ0IhgxKjKN",
    "outputId": "4bf8e1ad-5140-449e-9b05-ac9dae6be557"
   },
   "outputs": [
    {
     "data": {
      "text/html": [
       "\n",
       "  <div id=\"df-00cf817e-27ee-45da-90e3-a2f87bf567d3\">\n",
       "    <div class=\"colab-df-container\">\n",
       "      <div>\n",
       "<style scoped>\n",
       "    .dataframe tbody tr th:only-of-type {\n",
       "        vertical-align: middle;\n",
       "    }\n",
       "\n",
       "    .dataframe tbody tr th {\n",
       "        vertical-align: top;\n",
       "    }\n",
       "\n",
       "    .dataframe thead th {\n",
       "        text-align: right;\n",
       "    }\n",
       "</style>\n",
       "<table border=\"1\" class=\"dataframe\">\n",
       "  <thead>\n",
       "    <tr style=\"text-align: right;\">\n",
       "      <th></th>\n",
       "      <th>AGE</th>\n",
       "      <th>Urea</th>\n",
       "      <th>Cr</th>\n",
       "      <th>HbA1c</th>\n",
       "      <th>Chol</th>\n",
       "      <th>TG</th>\n",
       "      <th>HDL</th>\n",
       "      <th>LDL</th>\n",
       "      <th>VLDL</th>\n",
       "      <th>BMI</th>\n",
       "      <th>Gender_Category</th>\n",
       "    </tr>\n",
       "  </thead>\n",
       "  <tbody>\n",
       "    <tr>\n",
       "      <th>0</th>\n",
       "      <td>50</td>\n",
       "      <td>4.7</td>\n",
       "      <td>46</td>\n",
       "      <td>4.9</td>\n",
       "      <td>4.2</td>\n",
       "      <td>0.9</td>\n",
       "      <td>2.4</td>\n",
       "      <td>1.4</td>\n",
       "      <td>0.5</td>\n",
       "      <td>24.0</td>\n",
       "      <td>0</td>\n",
       "    </tr>\n",
       "    <tr>\n",
       "      <th>1</th>\n",
       "      <td>26</td>\n",
       "      <td>4.5</td>\n",
       "      <td>62</td>\n",
       "      <td>4.9</td>\n",
       "      <td>3.7</td>\n",
       "      <td>1.4</td>\n",
       "      <td>1.1</td>\n",
       "      <td>2.1</td>\n",
       "      <td>0.6</td>\n",
       "      <td>23.0</td>\n",
       "      <td>1</td>\n",
       "    </tr>\n",
       "    <tr>\n",
       "      <th>2</th>\n",
       "      <td>50</td>\n",
       "      <td>4.7</td>\n",
       "      <td>46</td>\n",
       "      <td>4.9</td>\n",
       "      <td>4.2</td>\n",
       "      <td>0.9</td>\n",
       "      <td>2.4</td>\n",
       "      <td>1.4</td>\n",
       "      <td>0.5</td>\n",
       "      <td>24.0</td>\n",
       "      <td>0</td>\n",
       "    </tr>\n",
       "    <tr>\n",
       "      <th>3</th>\n",
       "      <td>50</td>\n",
       "      <td>4.7</td>\n",
       "      <td>46</td>\n",
       "      <td>4.9</td>\n",
       "      <td>4.2</td>\n",
       "      <td>0.9</td>\n",
       "      <td>2.4</td>\n",
       "      <td>1.4</td>\n",
       "      <td>0.5</td>\n",
       "      <td>24.0</td>\n",
       "      <td>0</td>\n",
       "    </tr>\n",
       "    <tr>\n",
       "      <th>4</th>\n",
       "      <td>33</td>\n",
       "      <td>7.1</td>\n",
       "      <td>46</td>\n",
       "      <td>4.9</td>\n",
       "      <td>4.9</td>\n",
       "      <td>1.0</td>\n",
       "      <td>0.8</td>\n",
       "      <td>2.0</td>\n",
       "      <td>0.4</td>\n",
       "      <td>21.0</td>\n",
       "      <td>1</td>\n",
       "    </tr>\n",
       "    <tr>\n",
       "      <th>...</th>\n",
       "      <td>...</td>\n",
       "      <td>...</td>\n",
       "      <td>...</td>\n",
       "      <td>...</td>\n",
       "      <td>...</td>\n",
       "      <td>...</td>\n",
       "      <td>...</td>\n",
       "      <td>...</td>\n",
       "      <td>...</td>\n",
       "      <td>...</td>\n",
       "      <td>...</td>\n",
       "    </tr>\n",
       "    <tr>\n",
       "      <th>995</th>\n",
       "      <td>71</td>\n",
       "      <td>11.0</td>\n",
       "      <td>97</td>\n",
       "      <td>7.0</td>\n",
       "      <td>7.5</td>\n",
       "      <td>1.7</td>\n",
       "      <td>1.2</td>\n",
       "      <td>1.8</td>\n",
       "      <td>0.6</td>\n",
       "      <td>30.0</td>\n",
       "      <td>1</td>\n",
       "    </tr>\n",
       "    <tr>\n",
       "      <th>996</th>\n",
       "      <td>31</td>\n",
       "      <td>3.0</td>\n",
       "      <td>60</td>\n",
       "      <td>12.3</td>\n",
       "      <td>4.1</td>\n",
       "      <td>2.2</td>\n",
       "      <td>0.7</td>\n",
       "      <td>2.4</td>\n",
       "      <td>15.4</td>\n",
       "      <td>37.2</td>\n",
       "      <td>1</td>\n",
       "    </tr>\n",
       "    <tr>\n",
       "      <th>997</th>\n",
       "      <td>30</td>\n",
       "      <td>7.1</td>\n",
       "      <td>81</td>\n",
       "      <td>6.7</td>\n",
       "      <td>4.1</td>\n",
       "      <td>1.1</td>\n",
       "      <td>1.2</td>\n",
       "      <td>2.4</td>\n",
       "      <td>8.1</td>\n",
       "      <td>27.4</td>\n",
       "      <td>1</td>\n",
       "    </tr>\n",
       "    <tr>\n",
       "      <th>998</th>\n",
       "      <td>38</td>\n",
       "      <td>5.8</td>\n",
       "      <td>59</td>\n",
       "      <td>6.7</td>\n",
       "      <td>5.3</td>\n",
       "      <td>2.0</td>\n",
       "      <td>1.6</td>\n",
       "      <td>2.9</td>\n",
       "      <td>14.0</td>\n",
       "      <td>40.5</td>\n",
       "      <td>1</td>\n",
       "    </tr>\n",
       "    <tr>\n",
       "      <th>999</th>\n",
       "      <td>54</td>\n",
       "      <td>5.0</td>\n",
       "      <td>67</td>\n",
       "      <td>6.9</td>\n",
       "      <td>3.8</td>\n",
       "      <td>1.7</td>\n",
       "      <td>1.1</td>\n",
       "      <td>3.0</td>\n",
       "      <td>0.7</td>\n",
       "      <td>33.0</td>\n",
       "      <td>1</td>\n",
       "    </tr>\n",
       "  </tbody>\n",
       "</table>\n",
       "<p>1000 rows × 11 columns</p>\n",
       "</div>\n",
       "      <button class=\"colab-df-convert\" onclick=\"convertToInteractive('df-00cf817e-27ee-45da-90e3-a2f87bf567d3')\"\n",
       "              title=\"Convert this dataframe to an interactive table.\"\n",
       "              style=\"display:none;\">\n",
       "        \n",
       "  <svg xmlns=\"http://www.w3.org/2000/svg\" height=\"24px\"viewBox=\"0 0 24 24\"\n",
       "       width=\"24px\">\n",
       "    <path d=\"M0 0h24v24H0V0z\" fill=\"none\"/>\n",
       "    <path d=\"M18.56 5.44l.94 2.06.94-2.06 2.06-.94-2.06-.94-.94-2.06-.94 2.06-2.06.94zm-11 1L8.5 8.5l.94-2.06 2.06-.94-2.06-.94L8.5 2.5l-.94 2.06-2.06.94zm10 10l.94 2.06.94-2.06 2.06-.94-2.06-.94-.94-2.06-.94 2.06-2.06.94z\"/><path d=\"M17.41 7.96l-1.37-1.37c-.4-.4-.92-.59-1.43-.59-.52 0-1.04.2-1.43.59L10.3 9.45l-7.72 7.72c-.78.78-.78 2.05 0 2.83L4 21.41c.39.39.9.59 1.41.59.51 0 1.02-.2 1.41-.59l7.78-7.78 2.81-2.81c.8-.78.8-2.07 0-2.86zM5.41 20L4 18.59l7.72-7.72 1.47 1.35L5.41 20z\"/>\n",
       "  </svg>\n",
       "      </button>\n",
       "      \n",
       "  <style>\n",
       "    .colab-df-container {\n",
       "      display:flex;\n",
       "      flex-wrap:wrap;\n",
       "      gap: 12px;\n",
       "    }\n",
       "\n",
       "    .colab-df-convert {\n",
       "      background-color: #E8F0FE;\n",
       "      border: none;\n",
       "      border-radius: 50%;\n",
       "      cursor: pointer;\n",
       "      display: none;\n",
       "      fill: #1967D2;\n",
       "      height: 32px;\n",
       "      padding: 0 0 0 0;\n",
       "      width: 32px;\n",
       "    }\n",
       "\n",
       "    .colab-df-convert:hover {\n",
       "      background-color: #E2EBFA;\n",
       "      box-shadow: 0px 1px 2px rgba(60, 64, 67, 0.3), 0px 1px 3px 1px rgba(60, 64, 67, 0.15);\n",
       "      fill: #174EA6;\n",
       "    }\n",
       "\n",
       "    [theme=dark] .colab-df-convert {\n",
       "      background-color: #3B4455;\n",
       "      fill: #D2E3FC;\n",
       "    }\n",
       "\n",
       "    [theme=dark] .colab-df-convert:hover {\n",
       "      background-color: #434B5C;\n",
       "      box-shadow: 0px 1px 3px 1px rgba(0, 0, 0, 0.15);\n",
       "      filter: drop-shadow(0px 1px 2px rgba(0, 0, 0, 0.3));\n",
       "      fill: #FFFFFF;\n",
       "    }\n",
       "  </style>\n",
       "\n",
       "      <script>\n",
       "        const buttonEl =\n",
       "          document.querySelector('#df-00cf817e-27ee-45da-90e3-a2f87bf567d3 button.colab-df-convert');\n",
       "        buttonEl.style.display =\n",
       "          google.colab.kernel.accessAllowed ? 'block' : 'none';\n",
       "\n",
       "        async function convertToInteractive(key) {\n",
       "          const element = document.querySelector('#df-00cf817e-27ee-45da-90e3-a2f87bf567d3');\n",
       "          const dataTable =\n",
       "            await google.colab.kernel.invokeFunction('convertToInteractive',\n",
       "                                                     [key], {});\n",
       "          if (!dataTable) return;\n",
       "\n",
       "          const docLinkHtml = 'Like what you see? Visit the ' +\n",
       "            '<a target=\"_blank\" href=https://colab.research.google.com/notebooks/data_table.ipynb>data table notebook</a>'\n",
       "            + ' to learn more about interactive tables.';\n",
       "          element.innerHTML = '';\n",
       "          dataTable['output_type'] = 'display_data';\n",
       "          await google.colab.output.renderOutput(dataTable, element);\n",
       "          const docLink = document.createElement('div');\n",
       "          docLink.innerHTML = docLinkHtml;\n",
       "          element.appendChild(docLink);\n",
       "        }\n",
       "      </script>\n",
       "    </div>\n",
       "  </div>\n",
       "  "
      ],
      "text/plain": [
       "     AGE  Urea  Cr  HbA1c  Chol   TG  HDL  LDL  VLDL   BMI  Gender_Category\n",
       "0     50   4.7  46    4.9   4.2  0.9  2.4  1.4   0.5  24.0                0\n",
       "1     26   4.5  62    4.9   3.7  1.4  1.1  2.1   0.6  23.0                1\n",
       "2     50   4.7  46    4.9   4.2  0.9  2.4  1.4   0.5  24.0                0\n",
       "3     50   4.7  46    4.9   4.2  0.9  2.4  1.4   0.5  24.0                0\n",
       "4     33   7.1  46    4.9   4.9  1.0  0.8  2.0   0.4  21.0                1\n",
       "..   ...   ...  ..    ...   ...  ...  ...  ...   ...   ...              ...\n",
       "995   71  11.0  97    7.0   7.5  1.7  1.2  1.8   0.6  30.0                1\n",
       "996   31   3.0  60   12.3   4.1  2.2  0.7  2.4  15.4  37.2                1\n",
       "997   30   7.1  81    6.7   4.1  1.1  1.2  2.4   8.1  27.4                1\n",
       "998   38   5.8  59    6.7   5.3  2.0  1.6  2.9  14.0  40.5                1\n",
       "999   54   5.0  67    6.9   3.8  1.7  1.1  3.0   0.7  33.0                1\n",
       "\n",
       "[1000 rows x 11 columns]"
      ]
     },
     "execution_count": 322,
     "metadata": {},
     "output_type": "execute_result"
    }
   ],
   "source": [
    "X_XG"
   ]
  },
  {
   "cell_type": "code",
   "execution_count": null,
   "metadata": {
    "id": "JGptcGw8BNs8"
   },
   "outputs": [],
   "source": [
    "# Training the model\n",
    "\n",
    "X_XG_train, X_XG_test, y_XG_train, y_XG_test = train_test_split(X_XG, y_XG, test_size=.2, random_state = 40)\n",
    "# create model instance\n",
    "bst = XGBClassifier(n_estimators=3, max_depth=3, learning_rate=1, objective='multiple:logistic')\n",
    "# fit model\n",
    "bst.fit(X_XG_train, y_XG_train)\n",
    "# make predictions\n",
    "y_XG_preds = bst.predict(X_XG_test)"
   ]
  },
  {
   "cell_type": "code",
   "execution_count": null,
   "metadata": {
    "colab": {
     "base_uri": "https://localhost:8080/"
    },
    "executionInfo": {
     "elapsed": 212,
     "status": "ok",
     "timestamp": 1689013701510,
     "user": {
      "displayName": "Nastaran Ashoori",
      "userId": "00665327493872759992"
     },
     "user_tz": -120
    },
    "id": "nHtec-DEB8_b",
    "outputId": "f6e82740-9320-4ee8-b371-ae6098f236cb"
   },
   "outputs": [
    {
     "name": "stdout",
     "output_type": "stream",
     "text": [
      "Accuracy score is:  0.99\n",
      "Precision score is:  0.9835348597890404\n",
      "Recall score is:  0.9609905763751918\n",
      "f1 score is:  0.9710123628675665\n"
     ]
    }
   ],
   "source": [
    "print(\"Accuracy score is: \", accuracy_score(y_XG_test, y_XG_preds))\n",
    "print(\"Precision score is: \", precision_score(y_XG_test, y_XG_preds, average='macro'))\n",
    "print(\"Recall score is: \", recall_score(y_XG_test, y_XG_preds, average='macro'))\n",
    "print(\"f1 score is: \", f1_score(y_XG_test, y_XG_preds, average='macro'))"
   ]
  },
  {
   "cell_type": "markdown",
   "metadata": {
    "id": "Y7xUCyyH_Myc"
   },
   "source": [
    "---\n",
    "\n",
    "\n",
    "###***4.4 - Neural Networks (NN)***\n",
    "---\n"
   ]
  },
  {
   "cell_type": "code",
   "execution_count": 132,
   "metadata": {
    "executionInfo": {
     "elapsed": 330,
     "status": "ok",
     "timestamp": 1689158775700,
     "user": {
      "displayName": "Nastaran Ashoori",
      "userId": "00665327493872759992"
     },
     "user_tz": -120
    },
    "id": "-Y06YNUjtbTu"
   },
   "outputs": [],
   "source": [
    "from sklearn.model_selection import train_test_split\n",
    "\n",
    "X_NN = data.drop(['CLASS_Category', 'CLASS', 'Gender'], axis= 1)\n",
    "y_NN = data['CLASS_Category']\n",
    "\n",
    "X_NN_train, X_NN_test, y_NN_train, y_NN_test = train_test_split(X_NN, y_NN, test_size=0.2, random_state = 100)"
   ]
  },
  {
   "cell_type": "code",
   "execution_count": 133,
   "metadata": {
    "colab": {
     "base_uri": "https://localhost:8080/"
    },
    "executionInfo": {
     "elapsed": 327,
     "status": "ok",
     "timestamp": 1689158778520,
     "user": {
      "displayName": "Nastaran Ashoori",
      "userId": "00665327493872759992"
     },
     "user_tz": -120
    },
    "id": "17sTL7vlu2Dm",
    "outputId": "7d6070d8-7e6a-48a3-de98-252b199c1510"
   },
   "outputs": [
    {
     "data": {
      "text/plain": [
       "(1000, 11)"
      ]
     },
     "execution_count": 133,
     "metadata": {},
     "output_type": "execute_result"
    }
   ],
   "source": [
    "X_NN.shape"
   ]
  },
  {
   "cell_type": "code",
   "execution_count": 134,
   "metadata": {
    "colab": {
     "base_uri": "https://localhost:8080/"
    },
    "executionInfo": {
     "elapsed": 326,
     "status": "ok",
     "timestamp": 1689158781451,
     "user": {
      "displayName": "Nastaran Ashoori",
      "userId": "00665327493872759992"
     },
     "user_tz": -120
    },
    "id": "Lz6DxoAEe5AE",
    "outputId": "96a38603-b9eb-4013-87b1-2e07d56ce358"
   },
   "outputs": [
    {
     "data": {
      "text/plain": [
       "(800, 11)"
      ]
     },
     "execution_count": 134,
     "metadata": {},
     "output_type": "execute_result"
    }
   ],
   "source": [
    "X_NN_train.shape"
   ]
  },
  {
   "cell_type": "code",
   "execution_count": 117,
   "metadata": {
    "executionInfo": {
     "elapsed": 326,
     "status": "ok",
     "timestamp": 1689158566486,
     "user": {
      "displayName": "Nastaran Ashoori",
      "userId": "00665327493872759992"
     },
     "user_tz": -120
    },
    "id": "QtjStvQZu4FB"
   },
   "outputs": [],
   "source": [
    "import numpy as np\n",
    "from keras.models import Sequential\n",
    "from keras.layers import Dense\n",
    "from keras.utils import to_categorical"
   ]
  },
  {
   "cell_type": "code",
   "execution_count": 142,
   "metadata": {
    "executionInfo": {
     "elapsed": 410,
     "status": "ok",
     "timestamp": 1689159002265,
     "user": {
      "displayName": "Nastaran Ashoori",
      "userId": "00665327493872759992"
     },
     "user_tz": -120
    },
    "id": "NnYadmnRsq_P"
   },
   "outputs": [],
   "source": [
    "# Convert labels to one-hot encoding\n",
    "y_NN_train = to_categorical(y_NN_train)"
   ]
  },
  {
   "cell_type": "code",
   "execution_count": 144,
   "metadata": {
    "executionInfo": {
     "elapsed": 317,
     "status": "ok",
     "timestamp": 1689159051947,
     "user": {
      "displayName": "Nastaran Ashoori",
      "userId": "00665327493872759992"
     },
     "user_tz": -120
    },
    "id": "BD1dUX_euTUi"
   },
   "outputs": [],
   "source": [
    "y_NN_test = to_categorical(y_NN_test)"
   ]
  },
  {
   "cell_type": "code",
   "execution_count": 143,
   "metadata": {
    "colab": {
     "base_uri": "https://localhost:8080/"
    },
    "executionInfo": {
     "elapsed": 331,
     "status": "ok",
     "timestamp": 1689159017052,
     "user": {
      "displayName": "Nastaran Ashoori",
      "userId": "00665327493872759992"
     },
     "user_tz": -120
    },
    "id": "MRwBedqitMaV",
    "outputId": "2da94a5f-a82c-4c36-aa17-21fc599fea89"
   },
   "outputs": [
    {
     "data": {
      "text/plain": [
       "array([[0., 0., 1.],\n",
       "       [0., 0., 1.],\n",
       "       [0., 0., 1.]], dtype=float32)"
      ]
     },
     "execution_count": 143,
     "metadata": {},
     "output_type": "execute_result"
    }
   ],
   "source": [
    "y_NN_train[:3]"
   ]
  },
  {
   "cell_type": "code",
   "execution_count": 147,
   "metadata": {
    "executionInfo": {
     "elapsed": 345,
     "status": "ok",
     "timestamp": 1689159069903,
     "user": {
      "displayName": "Nastaran Ashoori",
      "userId": "00665327493872759992"
     },
     "user_tz": -120
    },
    "id": "fUDrr8Zpa5DD"
   },
   "outputs": [],
   "source": [
    "model = Sequential()\n",
    "model.add(Dense(64, activation='relu', input_shape=(11,)))\n",
    "model.add(Dense(64, activation='relu'))\n",
    "model.add(Dense(3, activation='softmax'))"
   ]
  },
  {
   "cell_type": "code",
   "execution_count": 148,
   "metadata": {
    "colab": {
     "base_uri": "https://localhost:8080/"
    },
    "executionInfo": {
     "elapsed": 437,
     "status": "ok",
     "timestamp": 1689159072689,
     "user": {
      "displayName": "Nastaran Ashoori",
      "userId": "00665327493872759992"
     },
     "user_tz": -120
    },
    "id": "FictCj7_ffpz",
    "outputId": "5f59e8dd-94e3-45b7-aca6-94237fb16ea9"
   },
   "outputs": [
    {
     "name": "stdout",
     "output_type": "stream",
     "text": [
      "Model: \"sequential_11\"\n",
      "_________________________________________________________________\n",
      " Layer (type)                Output Shape              Param #   \n",
      "=================================================================\n",
      " dense_38 (Dense)            (None, 64)                768       \n",
      "                                                                 \n",
      " dense_39 (Dense)            (None, 64)                4160      \n",
      "                                                                 \n",
      " dense_40 (Dense)            (None, 3)                 195       \n",
      "                                                                 \n",
      "=================================================================\n",
      "Total params: 5,123\n",
      "Trainable params: 5,123\n",
      "Non-trainable params: 0\n",
      "_________________________________________________________________\n"
     ]
    }
   ],
   "source": [
    "model.summary()"
   ]
  },
  {
   "cell_type": "code",
   "execution_count": 149,
   "metadata": {
    "executionInfo": {
     "elapsed": 367,
     "status": "ok",
     "timestamp": 1689159078510,
     "user": {
      "displayName": "Nastaran Ashoori",
      "userId": "00665327493872759992"
     },
     "user_tz": -120
    },
    "id": "S2ULFShgkcc-"
   },
   "outputs": [],
   "source": [
    "# compile the keras model\n",
    "\n",
    "model.compile(\n",
    "    loss='categorical_crossentropy',\n",
    "    optimizer='adam',\n",
    "    metrics=['accuracy']\n",
    "    )\n"
   ]
  },
  {
   "cell_type": "code",
   "execution_count": 259,
   "metadata": {
    "colab": {
     "base_uri": "https://localhost:8080/"
    },
    "executionInfo": {
     "elapsed": 10652,
     "status": "ok",
     "timestamp": 1689166009039,
     "user": {
      "displayName": "Nastaran Ashoori",
      "userId": "00665327493872759992"
     },
     "user_tz": -120
    },
    "id": "RttHT6Urkk0P",
    "outputId": "4e551be5-0006-446b-f246-13700efd25a9"
   },
   "outputs": [
    {
     "name": "stdout",
     "output_type": "stream",
     "text": [
      "Epoch 1/100\n",
      "16/16 [==============================] - 0s 3ms/step - loss: 0.1303 - accuracy: 0.9588\n",
      "Epoch 2/100\n",
      "16/16 [==============================] - 0s 2ms/step - loss: 0.1304 - accuracy: 0.9438\n",
      "Epoch 3/100\n",
      "16/16 [==============================] - 0s 3ms/step - loss: 0.1261 - accuracy: 0.9438\n",
      "Epoch 4/100\n",
      "16/16 [==============================] - 0s 2ms/step - loss: 0.1189 - accuracy: 0.9525\n",
      "Epoch 5/100\n",
      "16/16 [==============================] - 0s 2ms/step - loss: 0.1087 - accuracy: 0.9613\n",
      "Epoch 6/100\n",
      "16/16 [==============================] - 0s 2ms/step - loss: 0.1162 - accuracy: 0.9513\n",
      "Epoch 7/100\n",
      "16/16 [==============================] - 0s 2ms/step - loss: 0.1141 - accuracy: 0.9588\n",
      "Epoch 8/100\n",
      "16/16 [==============================] - 0s 2ms/step - loss: 0.1119 - accuracy: 0.9538\n",
      "Epoch 9/100\n",
      "16/16 [==============================] - 0s 2ms/step - loss: 0.1141 - accuracy: 0.9675\n",
      "Epoch 10/100\n",
      "16/16 [==============================] - 0s 2ms/step - loss: 0.1187 - accuracy: 0.9525\n",
      "Epoch 11/100\n",
      "16/16 [==============================] - 0s 2ms/step - loss: 0.1078 - accuracy: 0.9625\n",
      "Epoch 12/100\n",
      "16/16 [==============================] - 0s 2ms/step - loss: 0.1079 - accuracy: 0.9600\n",
      "Epoch 13/100\n",
      "16/16 [==============================] - 0s 2ms/step - loss: 0.1075 - accuracy: 0.9613\n",
      "Epoch 14/100\n",
      "16/16 [==============================] - 0s 2ms/step - loss: 0.1113 - accuracy: 0.9538\n",
      "Epoch 15/100\n",
      "16/16 [==============================] - 0s 2ms/step - loss: 0.1069 - accuracy: 0.9563\n",
      "Epoch 16/100\n",
      "16/16 [==============================] - 0s 3ms/step - loss: 0.1103 - accuracy: 0.9663\n",
      "Epoch 17/100\n",
      "16/16 [==============================] - 0s 3ms/step - loss: 0.1080 - accuracy: 0.9638\n",
      "Epoch 18/100\n",
      "16/16 [==============================] - 0s 2ms/step - loss: 0.1092 - accuracy: 0.9600\n",
      "Epoch 19/100\n",
      "16/16 [==============================] - 0s 2ms/step - loss: 0.1065 - accuracy: 0.9600\n",
      "Epoch 20/100\n",
      "16/16 [==============================] - 0s 3ms/step - loss: 0.1045 - accuracy: 0.9638\n",
      "Epoch 21/100\n",
      "16/16 [==============================] - 0s 3ms/step - loss: 0.1122 - accuracy: 0.9588\n",
      "Epoch 22/100\n",
      "16/16 [==============================] - 0s 2ms/step - loss: 0.1111 - accuracy: 0.9613\n",
      "Epoch 23/100\n",
      "16/16 [==============================] - 0s 2ms/step - loss: 0.1091 - accuracy: 0.9588\n",
      "Epoch 24/100\n",
      "16/16 [==============================] - 0s 2ms/step - loss: 0.1070 - accuracy: 0.9663\n",
      "Epoch 25/100\n",
      "16/16 [==============================] - 0s 2ms/step - loss: 0.1107 - accuracy: 0.9563\n",
      "Epoch 26/100\n",
      "16/16 [==============================] - 0s 2ms/step - loss: 0.1171 - accuracy: 0.9538\n",
      "Epoch 27/100\n",
      "16/16 [==============================] - 0s 2ms/step - loss: 0.1079 - accuracy: 0.9588\n",
      "Epoch 28/100\n",
      "16/16 [==============================] - 0s 2ms/step - loss: 0.1021 - accuracy: 0.9663\n",
      "Epoch 29/100\n",
      "16/16 [==============================] - 0s 2ms/step - loss: 0.1002 - accuracy: 0.9663\n",
      "Epoch 30/100\n",
      "16/16 [==============================] - 0s 2ms/step - loss: 0.0986 - accuracy: 0.9638\n",
      "Epoch 31/100\n",
      "16/16 [==============================] - 0s 2ms/step - loss: 0.1003 - accuracy: 0.9638\n",
      "Epoch 32/100\n",
      "16/16 [==============================] - 0s 2ms/step - loss: 0.1053 - accuracy: 0.9600\n",
      "Epoch 33/100\n",
      "16/16 [==============================] - 0s 2ms/step - loss: 0.1053 - accuracy: 0.9613\n",
      "Epoch 34/100\n",
      "16/16 [==============================] - 0s 3ms/step - loss: 0.1040 - accuracy: 0.9650\n",
      "Epoch 35/100\n",
      "16/16 [==============================] - 0s 2ms/step - loss: 0.1043 - accuracy: 0.9625\n",
      "Epoch 36/100\n",
      "16/16 [==============================] - 0s 3ms/step - loss: 0.0999 - accuracy: 0.9613\n",
      "Epoch 37/100\n",
      "16/16 [==============================] - 0s 2ms/step - loss: 0.0984 - accuracy: 0.9675\n",
      "Epoch 38/100\n",
      "16/16 [==============================] - 0s 2ms/step - loss: 0.1014 - accuracy: 0.9588\n",
      "Epoch 39/100\n",
      "16/16 [==============================] - 0s 2ms/step - loss: 0.0995 - accuracy: 0.9625\n",
      "Epoch 40/100\n",
      "16/16 [==============================] - 0s 2ms/step - loss: 0.0957 - accuracy: 0.9712\n",
      "Epoch 41/100\n",
      "16/16 [==============================] - 0s 2ms/step - loss: 0.0920 - accuracy: 0.9688\n",
      "Epoch 42/100\n",
      "16/16 [==============================] - 0s 3ms/step - loss: 0.0977 - accuracy: 0.9663\n",
      "Epoch 43/100\n",
      "16/16 [==============================] - 0s 3ms/step - loss: 0.1037 - accuracy: 0.9588\n",
      "Epoch 44/100\n",
      "16/16 [==============================] - 0s 2ms/step - loss: 0.0990 - accuracy: 0.9588\n",
      "Epoch 45/100\n",
      "16/16 [==============================] - 0s 3ms/step - loss: 0.0944 - accuracy: 0.9613\n",
      "Epoch 46/100\n",
      "16/16 [==============================] - 0s 2ms/step - loss: 0.0952 - accuracy: 0.9663\n",
      "Epoch 47/100\n",
      "16/16 [==============================] - 0s 2ms/step - loss: 0.0973 - accuracy: 0.9700\n",
      "Epoch 48/100\n",
      "16/16 [==============================] - 0s 2ms/step - loss: 0.0913 - accuracy: 0.9663\n",
      "Epoch 49/100\n",
      "16/16 [==============================] - 0s 2ms/step - loss: 0.1006 - accuracy: 0.9638\n",
      "Epoch 50/100\n",
      "16/16 [==============================] - 0s 3ms/step - loss: 0.1164 - accuracy: 0.9538\n",
      "Epoch 51/100\n",
      "16/16 [==============================] - 0s 2ms/step - loss: 0.1030 - accuracy: 0.9625\n",
      "Epoch 52/100\n",
      "16/16 [==============================] - 0s 2ms/step - loss: 0.0960 - accuracy: 0.9638\n",
      "Epoch 53/100\n",
      "16/16 [==============================] - 0s 2ms/step - loss: 0.1094 - accuracy: 0.9525\n",
      "Epoch 54/100\n",
      "16/16 [==============================] - 0s 2ms/step - loss: 0.0952 - accuracy: 0.9650\n",
      "Epoch 55/100\n",
      "16/16 [==============================] - 0s 2ms/step - loss: 0.0971 - accuracy: 0.9638\n",
      "Epoch 56/100\n",
      "16/16 [==============================] - 0s 2ms/step - loss: 0.0991 - accuracy: 0.9650\n",
      "Epoch 57/100\n",
      "16/16 [==============================] - 0s 3ms/step - loss: 0.0924 - accuracy: 0.9712\n",
      "Epoch 58/100\n",
      "16/16 [==============================] - 0s 2ms/step - loss: 0.0869 - accuracy: 0.9750\n",
      "Epoch 59/100\n",
      "16/16 [==============================] - 0s 4ms/step - loss: 0.1041 - accuracy: 0.9650\n",
      "Epoch 60/100\n",
      "16/16 [==============================] - 0s 3ms/step - loss: 0.1117 - accuracy: 0.9575\n",
      "Epoch 61/100\n",
      "16/16 [==============================] - 0s 3ms/step - loss: 0.0868 - accuracy: 0.9750\n",
      "Epoch 62/100\n",
      "16/16 [==============================] - 0s 5ms/step - loss: 0.0902 - accuracy: 0.9700\n",
      "Epoch 63/100\n",
      "16/16 [==============================] - 0s 3ms/step - loss: 0.0895 - accuracy: 0.9663\n",
      "Epoch 64/100\n",
      "16/16 [==============================] - 0s 3ms/step - loss: 0.0896 - accuracy: 0.9712\n",
      "Epoch 65/100\n",
      "16/16 [==============================] - 0s 4ms/step - loss: 0.0872 - accuracy: 0.9663\n",
      "Epoch 66/100\n",
      "16/16 [==============================] - 0s 3ms/step - loss: 0.0840 - accuracy: 0.9725\n",
      "Epoch 67/100\n",
      "16/16 [==============================] - 0s 3ms/step - loss: 0.0862 - accuracy: 0.9737\n",
      "Epoch 68/100\n",
      "16/16 [==============================] - 0s 3ms/step - loss: 0.0842 - accuracy: 0.9725\n",
      "Epoch 69/100\n",
      "16/16 [==============================] - 0s 4ms/step - loss: 0.0833 - accuracy: 0.9712\n",
      "Epoch 70/100\n",
      "16/16 [==============================] - 0s 3ms/step - loss: 0.0894 - accuracy: 0.9712\n",
      "Epoch 71/100\n",
      "16/16 [==============================] - 0s 3ms/step - loss: 0.0902 - accuracy: 0.9700\n",
      "Epoch 72/100\n",
      "16/16 [==============================] - 0s 3ms/step - loss: 0.0906 - accuracy: 0.9638\n",
      "Epoch 73/100\n",
      "16/16 [==============================] - 0s 3ms/step - loss: 0.0838 - accuracy: 0.9712\n",
      "Epoch 74/100\n",
      "16/16 [==============================] - 0s 3ms/step - loss: 0.0844 - accuracy: 0.9775\n",
      "Epoch 75/100\n",
      "16/16 [==============================] - 0s 3ms/step - loss: 0.0844 - accuracy: 0.9650\n",
      "Epoch 76/100\n",
      "16/16 [==============================] - 0s 3ms/step - loss: 0.0865 - accuracy: 0.9737\n",
      "Epoch 77/100\n",
      "16/16 [==============================] - 0s 3ms/step - loss: 0.0887 - accuracy: 0.9700\n",
      "Epoch 78/100\n",
      "16/16 [==============================] - 0s 3ms/step - loss: 0.0788 - accuracy: 0.9775\n",
      "Epoch 79/100\n",
      "16/16 [==============================] - 0s 5ms/step - loss: 0.0793 - accuracy: 0.9750\n",
      "Epoch 80/100\n",
      "16/16 [==============================] - 0s 4ms/step - loss: 0.0768 - accuracy: 0.9750\n",
      "Epoch 81/100\n",
      "16/16 [==============================] - 0s 3ms/step - loss: 0.0763 - accuracy: 0.9775\n",
      "Epoch 82/100\n",
      "16/16 [==============================] - 0s 3ms/step - loss: 0.0829 - accuracy: 0.9700\n",
      "Epoch 83/100\n",
      "16/16 [==============================] - 0s 3ms/step - loss: 0.0885 - accuracy: 0.9712\n",
      "Epoch 84/100\n",
      "16/16 [==============================] - 0s 3ms/step - loss: 0.0899 - accuracy: 0.9638\n",
      "Epoch 85/100\n",
      "16/16 [==============================] - 0s 3ms/step - loss: 0.0821 - accuracy: 0.9725\n",
      "Epoch 86/100\n",
      "16/16 [==============================] - 0s 3ms/step - loss: 0.0835 - accuracy: 0.9700\n",
      "Epoch 87/100\n",
      "16/16 [==============================] - 0s 4ms/step - loss: 0.0765 - accuracy: 0.9825\n",
      "Epoch 88/100\n",
      "16/16 [==============================] - 0s 3ms/step - loss: 0.0755 - accuracy: 0.9762\n",
      "Epoch 89/100\n",
      "16/16 [==============================] - 0s 3ms/step - loss: 0.0724 - accuracy: 0.9800\n",
      "Epoch 90/100\n",
      "16/16 [==============================] - 0s 3ms/step - loss: 0.0809 - accuracy: 0.9750\n",
      "Epoch 91/100\n",
      "16/16 [==============================] - 0s 3ms/step - loss: 0.0761 - accuracy: 0.9812\n",
      "Epoch 92/100\n",
      "16/16 [==============================] - 0s 3ms/step - loss: 0.0755 - accuracy: 0.9750\n",
      "Epoch 93/100\n",
      "16/16 [==============================] - 0s 3ms/step - loss: 0.0730 - accuracy: 0.9712\n",
      "Epoch 94/100\n",
      "16/16 [==============================] - 0s 3ms/step - loss: 0.0717 - accuracy: 0.9812\n",
      "Epoch 95/100\n",
      "16/16 [==============================] - 0s 4ms/step - loss: 0.0760 - accuracy: 0.9737\n",
      "Epoch 96/100\n",
      "16/16 [==============================] - 0s 3ms/step - loss: 0.0844 - accuracy: 0.9688\n",
      "Epoch 97/100\n",
      "16/16 [==============================] - 0s 3ms/step - loss: 0.0906 - accuracy: 0.9663\n",
      "Epoch 98/100\n",
      "16/16 [==============================] - 0s 3ms/step - loss: 0.0779 - accuracy: 0.9762\n",
      "Epoch 99/100\n",
      "16/16 [==============================] - 0s 3ms/step - loss: 0.0788 - accuracy: 0.9775\n",
      "Epoch 100/100\n",
      "16/16 [==============================] - 0s 3ms/step - loss: 0.0754 - accuracy: 0.9775\n"
     ]
    },
    {
     "data": {
      "text/plain": [
       "<keras.callbacks.History at 0x7fdd54a201f0>"
      ]
     },
     "execution_count": 259,
     "metadata": {},
     "output_type": "execute_result"
    }
   ],
   "source": [
    "# fit the keras model on the dataset\n",
    "\n",
    "model.fit(\n",
    "    X_NN_train,\n",
    "    y_NN_train,\n",
    "    epochs=100,\n",
    "    batch_size=50\n",
    ")"
   ]
  },
  {
   "cell_type": "code",
   "execution_count": 260,
   "metadata": {
    "colab": {
     "base_uri": "https://localhost:8080/"
    },
    "executionInfo": {
     "elapsed": 340,
     "status": "ok",
     "timestamp": 1689166011911,
     "user": {
      "displayName": "Nastaran Ashoori",
      "userId": "00665327493872759992"
     },
     "user_tz": -120
    },
    "id": "CLh_DkSok3fY",
    "outputId": "7643c2ed-f1dc-4499-db11-ceb7b6419dde"
   },
   "outputs": [
    {
     "name": "stdout",
     "output_type": "stream",
     "text": [
      "25/25 [==============================] - 0s 2ms/step - loss: 0.0638 - accuracy: 0.9825\n",
      "Accuracy: 98.25\n"
     ]
    }
   ],
   "source": [
    "# evaluate the keras model\n",
    "loss, accuracy = model.evaluate(X_NN_train, y_NN_train)\n",
    "\n",
    "print('Accuracy: %.2f' % (accuracy*100))"
   ]
  },
  {
   "cell_type": "code",
   "execution_count": 262,
   "metadata": {
    "colab": {
     "base_uri": "https://localhost:8080/"
    },
    "executionInfo": {
     "elapsed": 484,
     "status": "ok",
     "timestamp": 1689166034762,
     "user": {
      "displayName": "Nastaran Ashoori",
      "userId": "00665327493872759992"
     },
     "user_tz": -120
    },
    "id": "ff8_OFiXvYHk",
    "outputId": "9dccabfe-5713-4869-a756-a241379200a4"
   },
   "outputs": [
    {
     "name": "stdout",
     "output_type": "stream",
     "text": [
      "7/7 [==============================] - 0s 2ms/step\n",
      "7/7 [==============================] - 0s 2ms/step\n"
     ]
    },
    {
     "data": {
      "text/plain": [
       "200"
      ]
     },
     "execution_count": 262,
     "metadata": {},
     "output_type": "execute_result"
    }
   ],
   "source": [
    "# make class predictions with the model\n",
    "predictions = model.predict(X_NN_test)\n",
    "\n",
    "# round predictions\n",
    "rounded = [round(x[0]) for x in predictions]\n",
    "\n",
    "# make class predictions with the model\n",
    "predictions = (model.predict(X_NN_test) > 0.5).astype(int)\n",
    "\n",
    "len(predictions)\n"
   ]
  },
  {
   "cell_type": "code",
   "execution_count": 266,
   "metadata": {
    "colab": {
     "base_uri": "https://localhost:8080/"
    },
    "executionInfo": {
     "elapsed": 530,
     "status": "ok",
     "timestamp": 1689166100272,
     "user": {
      "displayName": "Nastaran Ashoori",
      "userId": "00665327493872759992"
     },
     "user_tz": -120
    },
    "id": "wobkXVUHIxRe",
    "outputId": "9fbe2488-b8a6-4284-f411-349059bccdb2"
   },
   "outputs": [
    {
     "name": "stdout",
     "output_type": "stream",
     "text": [
      "[[0 0 1]\n",
      " [0 0 1]\n",
      " [0 0 1]\n",
      " [0 0 1]\n",
      " [0 0 1]] [[0. 0. 1.]\n",
      " [0. 0. 1.]\n",
      " [0. 0. 1.]\n",
      " [0. 0. 1.]\n",
      " [0. 0. 1.]]\n"
     ]
    }
   ],
   "source": [
    "print(predictions[:5], y_NN_test[:5])"
   ]
  },
  {
   "cell_type": "code",
   "execution_count": 264,
   "metadata": {
    "colab": {
     "base_uri": "https://localhost:8080/"
    },
    "executionInfo": {
     "elapsed": 332,
     "status": "ok",
     "timestamp": 1689166045710,
     "user": {
      "displayName": "Nastaran Ashoori",
      "userId": "00665327493872759992"
     },
     "user_tz": -120
    },
    "id": "VwQ4ic6D2L3L",
    "outputId": "c48f01ad-4259-47da-a188-b80c32c525c5"
   },
   "outputs": [
    {
     "name": "stdout",
     "output_type": "stream",
     "text": [
      "Accuracy score is:  0.92\n",
      "Precision score is:  0.9403556618819776\n",
      "Recall score is:  0.92\n",
      "F1 score is:  0.9289762167171807\n"
     ]
    }
   ],
   "source": [
    "from sklearn.metrics import accuracy_score, precision_score, recall_score, f1_score\n",
    "\n",
    "print(\"Accuracy score is: \", accuracy_score(y_NN_test, predictions))\n",
    "print(\"Precision score is: \", precision_score(y_NN_test, predictions, average='weighted'))\n",
    "print(\"Recall score is: \", recall_score(y_NN_test, predictions, average='weighted'))\n",
    "print(\"F1 score is: \", f1_score(y_NN_test, predictions, average='weighted'))"
   ]
  },
  {
   "cell_type": "code",
   "execution_count": 265,
   "metadata": {
    "colab": {
     "base_uri": "https://localhost:8080/"
    },
    "executionInfo": {
     "elapsed": 719,
     "status": "ok",
     "timestamp": 1689166050364,
     "user": {
      "displayName": "Nastaran Ashoori",
      "userId": "00665327493872759992"
     },
     "user_tz": -120
    },
    "id": "zfDZbNPtALBA",
    "outputId": "b8c59514-f976-4c22-b775-7ac87caeb6f6"
   },
   "outputs": [
    {
     "data": {
      "text/plain": [
       "array([2, 2, 2, 2, 2])"
      ]
     },
     "execution_count": 265,
     "metadata": {},
     "output_type": "execute_result"
    }
   ],
   "source": [
    "y_NN_pred = []\n",
    "\n",
    "for prediction in predictions:\n",
    "    max_index = np.argmax(prediction)\n",
    "    y_NN_pred.append(max_index)\n",
    "\n",
    "y_NN_pred = np.array(y_NN_pred)\n",
    "\n",
    "y_NN_pred[:5]"
   ]
  },
  {
   "cell_type": "code",
   "execution_count": null,
   "metadata": {
    "id": "V2CL5bWjH16j"
   },
   "outputs": [],
   "source": []
  }
 ],
 "metadata": {
  "colab": {
   "provenance": []
  },
  "kernelspec": {
   "display_name": "Python 3 (ipykernel)",
   "language": "python",
   "name": "python3"
  },
  "language_info": {
   "codemirror_mode": {
    "name": "ipython",
    "version": 3
   },
   "file_extension": ".py",
   "mimetype": "text/x-python",
   "name": "python",
   "nbconvert_exporter": "python",
   "pygments_lexer": "ipython3",
   "version": "3.9.13"
  }
 },
 "nbformat": 4,
 "nbformat_minor": 1
}
